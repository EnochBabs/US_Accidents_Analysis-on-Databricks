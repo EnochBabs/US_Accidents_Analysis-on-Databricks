{
 "cells": [
  {
   "cell_type": "markdown",
   "metadata": {
    "application/vnd.databricks.v1+cell": {
     "cellMetadata": {
      "byteLimit": 2048000,
      "rowLimit": 10000
     },
     "inputWidgets": {},
     "nuid": "b44c4d3c-b8e4-4cd1-90eb-29754402c1b3",
     "showTitle": false,
     "tableResultSettingsMap": {},
     "title": ""
    }
   },
   "source": [
    "# US Accidents ETL Pipeline (Bronze → Silver → Gold)\n",
    "\n",
    "## Project Objective\n",
    "This notebook demonstrates how to build a production-grade ETL pipeline using Databricks (PySpark + Delta Lake).\n",
    "\n",
    "We follow the Lakehouse architecture:\n",
    "- **Bronze Layer**: Raw ingestion of CSV files\n",
    "- **Silver Layer**: Cleaned, curated Delta table\n",
    "- **Gold Layer**: Aggregated business-ready insights\n",
    "\n",
    "Dataset: [US Accidents (5M+ rows)](https://www.kaggle.com/sobhanmoosavi/us-accidents)"
   ]
  },
  {
   "cell_type": "markdown",
   "metadata": {
    "application/vnd.databricks.v1+cell": {
     "cellMetadata": {
      "byteLimit": 2048000,
      "rowLimit": 10000
     },
     "inputWidgets": {},
     "nuid": "a1467123-08a1-47f9-8f37-d7c84f7f92e9",
     "showTitle": false,
     "tableResultSettingsMap": {},
     "title": ""
    }
   },
   "source": [
    "## Bronze Layer – Raw Ingestion\n",
    "\n",
    "### Objective:\n",
    "Ingest raw accident data from CSV files into Databricks Bronze layer (raw storage). This layer is **unaltered**, serving as the source of truth.\n"
   ]
  },
  {
   "cell_type": "code",
   "execution_count": 0,
   "metadata": {
    "application/vnd.databricks.v1+cell": {
     "cellMetadata": {
      "byteLimit": 2048000,
      "rowLimit": 10000
     },
     "inputWidgets": {},
     "nuid": "1403ae26-0ff7-4481-a13e-aba5988fd72a",
     "showTitle": false,
     "tableResultSettingsMap": {},
     "title": ""
    }
   },
   "outputs": [
    {
     "output_type": "display_data",
     "data": {
      "text/html": [
       "<style scoped>\n",
       "  .table-result-container {\n",
       "    max-height: 300px;\n",
       "    overflow: auto;\n",
       "  }\n",
       "  table, th, td {\n",
       "    border: 1px solid black;\n",
       "    border-collapse: collapse;\n",
       "  }\n",
       "  th, td {\n",
       "    padding: 5px;\n",
       "  }\n",
       "  th {\n",
       "    text-align: left;\n",
       "  }\n",
       "</style><div class='table-result-container'><table class='table-result'><thead style='background-color: white'><tr><th>ID</th><th>Source</th><th>Severity</th><th>Start_Time</th><th>End_Time</th><th>Start_Lat</th><th>Start_Lng</th><th>End_Lat</th><th>End_Lng</th><th>Distance(mi)</th><th>Description</th><th>Street</th><th>City</th><th>County</th><th>State</th><th>Zipcode</th><th>Country</th><th>Timezone</th><th>Airport_Code</th><th>Weather_Timestamp</th><th>Temperature(F)</th><th>Wind_Chill(F)</th><th>Humidity(%)</th><th>Pressure(in)</th><th>Visibility(mi)</th><th>Wind_Direction</th><th>Wind_Speed(mph)</th><th>Precipitation(in)</th><th>Weather_Condition</th><th>Amenity</th><th>Bump</th><th>Crossing</th><th>Give_Way</th><th>Junction</th><th>No_Exit</th><th>Railway</th><th>Roundabout</th><th>Station</th><th>Stop</th><th>Traffic_Calming</th><th>Traffic_Signal</th><th>Turning_Loop</th><th>Sunrise_Sunset</th><th>Civil_Twilight</th><th>Nautical_Twilight</th><th>Astronomical_Twilight</th></tr></thead><tbody><tr><td>A-1</td><td>Source2</td><td>3</td><td>2016-02-08T05:46:00Z</td><td>2016-02-08T11:00:00Z</td><td>39.865147</td><td>-84.058723</td><td>null</td><td>null</td><td>0.01</td><td>Right lane blocked due to accident on I-70 Eastbound at Exit 41 OH-235 State Route 4.</td><td>I-70 E</td><td>Dayton</td><td>Montgomery</td><td>OH</td><td>45424</td><td>US</td><td>US/Eastern</td><td>KFFO</td><td>2016-02-08T05:58:00Z</td><td>36.9</td><td>null</td><td>91.0</td><td>29.68</td><td>10.0</td><td>Calm</td><td>null</td><td>0.02</td><td>Light Rain</td><td>false</td><td>false</td><td>false</td><td>false</td><td>false</td><td>false</td><td>false</td><td>false</td><td>false</td><td>false</td><td>false</td><td>false</td><td>false</td><td>Night</td><td>Night</td><td>Night</td><td>Night</td></tr><tr><td>A-2</td><td>Source2</td><td>2</td><td>2016-02-08T06:07:59Z</td><td>2016-02-08T06:37:59Z</td><td>39.92805900000001</td><td>-82.831184</td><td>null</td><td>null</td><td>0.01</td><td>Accident on Brice Rd at Tussing Rd. Expect delays.</td><td>Brice Rd</td><td>Reynoldsburg</td><td>Franklin</td><td>OH</td><td>43068-3402</td><td>US</td><td>US/Eastern</td><td>KCMH</td><td>2016-02-08T05:51:00Z</td><td>37.9</td><td>null</td><td>100.0</td><td>29.65</td><td>10.0</td><td>Calm</td><td>null</td><td>0.0</td><td>Light Rain</td><td>false</td><td>false</td><td>false</td><td>false</td><td>false</td><td>false</td><td>false</td><td>false</td><td>false</td><td>false</td><td>false</td><td>false</td><td>false</td><td>Night</td><td>Night</td><td>Night</td><td>Day</td></tr><tr><td>A-3</td><td>Source2</td><td>2</td><td>2016-02-08T06:49:27Z</td><td>2016-02-08T07:19:27Z</td><td>39.063148</td><td>-84.032608</td><td>null</td><td>null</td><td>0.01</td><td>Accident on OH-32 State Route 32 Westbound at Dela Palma Rd. Expect delays.</td><td>State Route 32</td><td>Williamsburg</td><td>Clermont</td><td>OH</td><td>45176</td><td>US</td><td>US/Eastern</td><td>KI69</td><td>2016-02-08T06:56:00Z</td><td>36.0</td><td>33.3</td><td>100.0</td><td>29.67</td><td>10.0</td><td>SW</td><td>3.5</td><td>null</td><td>Overcast</td><td>false</td><td>false</td><td>false</td><td>false</td><td>false</td><td>false</td><td>false</td><td>false</td><td>false</td><td>false</td><td>false</td><td>true</td><td>false</td><td>Night</td><td>Night</td><td>Day</td><td>Day</td></tr><tr><td>A-4</td><td>Source2</td><td>3</td><td>2016-02-08T07:23:34Z</td><td>2016-02-08T07:53:34Z</td><td>39.747753</td><td>-84.20558199999998</td><td>null</td><td>null</td><td>0.01</td><td>Accident on I-75 Southbound at Exits 52 52B US-35. Expect delays.</td><td>I-75 S</td><td>Dayton</td><td>Montgomery</td><td>OH</td><td>45417</td><td>US</td><td>US/Eastern</td><td>KDAY</td><td>2016-02-08T07:38:00Z</td><td>35.1</td><td>31.0</td><td>96.0</td><td>29.64</td><td>9.0</td><td>SW</td><td>4.6</td><td>null</td><td>Mostly Cloudy</td><td>false</td><td>false</td><td>false</td><td>false</td><td>false</td><td>false</td><td>false</td><td>false</td><td>false</td><td>false</td><td>false</td><td>false</td><td>false</td><td>Night</td><td>Day</td><td>Day</td><td>Day</td></tr><tr><td>A-5</td><td>Source2</td><td>2</td><td>2016-02-08T07:39:07Z</td><td>2016-02-08T08:09:07Z</td><td>39.627781</td><td>-84.188354</td><td>null</td><td>null</td><td>0.01</td><td>Accident on McEwen Rd at OH-725 Miamisburg Centerville Rd. Expect delays.</td><td>Miamisburg Centerville Rd</td><td>Dayton</td><td>Montgomery</td><td>OH</td><td>45459</td><td>US</td><td>US/Eastern</td><td>KMGY</td><td>2016-02-08T07:53:00Z</td><td>36.0</td><td>33.3</td><td>89.0</td><td>29.65</td><td>6.0</td><td>SW</td><td>3.5</td><td>null</td><td>Mostly Cloudy</td><td>false</td><td>false</td><td>false</td><td>false</td><td>false</td><td>false</td><td>false</td><td>false</td><td>false</td><td>false</td><td>false</td><td>true</td><td>false</td><td>Day</td><td>Day</td><td>Day</td><td>Day</td></tr></tbody></table></div>"
      ]
     },
     "metadata": {
      "application/vnd.databricks.v1+output": {
       "addedWidgets": {},
       "aggData": [],
       "aggError": "",
       "aggOverflow": false,
       "aggSchema": [],
       "aggSeriesLimitReached": false,
       "aggType": "",
       "arguments": {},
       "columnCustomDisplayInfos": {},
       "data": [
        [
         "A-1",
         "Source2",
         3,
         "2016-02-08T05:46:00Z",
         "2016-02-08T11:00:00Z",
         39.865147,
         -84.058723,
         null,
         null,
         0.01,
         "Right lane blocked due to accident on I-70 Eastbound at Exit 41 OH-235 State Route 4.",
         "I-70 E",
         "Dayton",
         "Montgomery",
         "OH",
         "45424",
         "US",
         "US/Eastern",
         "KFFO",
         "2016-02-08T05:58:00Z",
         36.9,
         null,
         91.0,
         29.68,
         10.0,
         "Calm",
         null,
         0.02,
         "Light Rain",
         false,
         false,
         false,
         false,
         false,
         false,
         false,
         false,
         false,
         false,
         false,
         false,
         false,
         "Night",
         "Night",
         "Night",
         "Night"
        ],
        [
         "A-2",
         "Source2",
         2,
         "2016-02-08T06:07:59Z",
         "2016-02-08T06:37:59Z",
         39.92805900000001,
         -82.831184,
         null,
         null,
         0.01,
         "Accident on Brice Rd at Tussing Rd. Expect delays.",
         "Brice Rd",
         "Reynoldsburg",
         "Franklin",
         "OH",
         "43068-3402",
         "US",
         "US/Eastern",
         "KCMH",
         "2016-02-08T05:51:00Z",
         37.9,
         null,
         100.0,
         29.65,
         10.0,
         "Calm",
         null,
         0.0,
         "Light Rain",
         false,
         false,
         false,
         false,
         false,
         false,
         false,
         false,
         false,
         false,
         false,
         false,
         false,
         "Night",
         "Night",
         "Night",
         "Day"
        ],
        [
         "A-3",
         "Source2",
         2,
         "2016-02-08T06:49:27Z",
         "2016-02-08T07:19:27Z",
         39.063148,
         -84.032608,
         null,
         null,
         0.01,
         "Accident on OH-32 State Route 32 Westbound at Dela Palma Rd. Expect delays.",
         "State Route 32",
         "Williamsburg",
         "Clermont",
         "OH",
         "45176",
         "US",
         "US/Eastern",
         "KI69",
         "2016-02-08T06:56:00Z",
         36.0,
         33.3,
         100.0,
         29.67,
         10.0,
         "SW",
         3.5,
         null,
         "Overcast",
         false,
         false,
         false,
         false,
         false,
         false,
         false,
         false,
         false,
         false,
         false,
         true,
         false,
         "Night",
         "Night",
         "Day",
         "Day"
        ],
        [
         "A-4",
         "Source2",
         3,
         "2016-02-08T07:23:34Z",
         "2016-02-08T07:53:34Z",
         39.747753,
         -84.20558199999998,
         null,
         null,
         0.01,
         "Accident on I-75 Southbound at Exits 52 52B US-35. Expect delays.",
         "I-75 S",
         "Dayton",
         "Montgomery",
         "OH",
         "45417",
         "US",
         "US/Eastern",
         "KDAY",
         "2016-02-08T07:38:00Z",
         35.1,
         31.0,
         96.0,
         29.64,
         9.0,
         "SW",
         4.6,
         null,
         "Mostly Cloudy",
         false,
         false,
         false,
         false,
         false,
         false,
         false,
         false,
         false,
         false,
         false,
         false,
         false,
         "Night",
         "Day",
         "Day",
         "Day"
        ],
        [
         "A-5",
         "Source2",
         2,
         "2016-02-08T07:39:07Z",
         "2016-02-08T08:09:07Z",
         39.627781,
         -84.188354,
         null,
         null,
         0.01,
         "Accident on McEwen Rd at OH-725 Miamisburg Centerville Rd. Expect delays.",
         "Miamisburg Centerville Rd",
         "Dayton",
         "Montgomery",
         "OH",
         "45459",
         "US",
         "US/Eastern",
         "KMGY",
         "2016-02-08T07:53:00Z",
         36.0,
         33.3,
         89.0,
         29.65,
         6.0,
         "SW",
         3.5,
         null,
         "Mostly Cloudy",
         false,
         false,
         false,
         false,
         false,
         false,
         false,
         false,
         false,
         false,
         false,
         true,
         false,
         "Day",
         "Day",
         "Day",
         "Day"
        ]
       ],
       "datasetInfos": [],
       "dbfsResultPath": null,
       "isJsonSchema": true,
       "metadata": {},
       "overflow": false,
       "plotOptions": {
        "customPlotOptions": {},
        "displayType": "table",
        "pivotAggregation": null,
        "pivotColumns": null,
        "xColumns": null,
        "yColumns": null
       },
       "removedWidgets": [],
       "schema": [
        {
         "metadata": "{}",
         "name": "ID",
         "type": "\"string\""
        },
        {
         "metadata": "{}",
         "name": "Source",
         "type": "\"string\""
        },
        {
         "metadata": "{}",
         "name": "Severity",
         "type": "\"integer\""
        },
        {
         "metadata": "{}",
         "name": "Start_Time",
         "type": "\"timestamp\""
        },
        {
         "metadata": "{}",
         "name": "End_Time",
         "type": "\"timestamp\""
        },
        {
         "metadata": "{}",
         "name": "Start_Lat",
         "type": "\"double\""
        },
        {
         "metadata": "{}",
         "name": "Start_Lng",
         "type": "\"double\""
        },
        {
         "metadata": "{}",
         "name": "End_Lat",
         "type": "\"double\""
        },
        {
         "metadata": "{}",
         "name": "End_Lng",
         "type": "\"double\""
        },
        {
         "metadata": "{}",
         "name": "Distance(mi)",
         "type": "\"double\""
        },
        {
         "metadata": "{}",
         "name": "Description",
         "type": "\"string\""
        },
        {
         "metadata": "{}",
         "name": "Street",
         "type": "\"string\""
        },
        {
         "metadata": "{}",
         "name": "City",
         "type": "\"string\""
        },
        {
         "metadata": "{}",
         "name": "County",
         "type": "\"string\""
        },
        {
         "metadata": "{}",
         "name": "State",
         "type": "\"string\""
        },
        {
         "metadata": "{}",
         "name": "Zipcode",
         "type": "\"string\""
        },
        {
         "metadata": "{}",
         "name": "Country",
         "type": "\"string\""
        },
        {
         "metadata": "{}",
         "name": "Timezone",
         "type": "\"string\""
        },
        {
         "metadata": "{}",
         "name": "Airport_Code",
         "type": "\"string\""
        },
        {
         "metadata": "{}",
         "name": "Weather_Timestamp",
         "type": "\"timestamp\""
        },
        {
         "metadata": "{}",
         "name": "Temperature(F)",
         "type": "\"double\""
        },
        {
         "metadata": "{}",
         "name": "Wind_Chill(F)",
         "type": "\"double\""
        },
        {
         "metadata": "{}",
         "name": "Humidity(%)",
         "type": "\"double\""
        },
        {
         "metadata": "{}",
         "name": "Pressure(in)",
         "type": "\"double\""
        },
        {
         "metadata": "{}",
         "name": "Visibility(mi)",
         "type": "\"double\""
        },
        {
         "metadata": "{}",
         "name": "Wind_Direction",
         "type": "\"string\""
        },
        {
         "metadata": "{}",
         "name": "Wind_Speed(mph)",
         "type": "\"double\""
        },
        {
         "metadata": "{}",
         "name": "Precipitation(in)",
         "type": "\"double\""
        },
        {
         "metadata": "{}",
         "name": "Weather_Condition",
         "type": "\"string\""
        },
        {
         "metadata": "{}",
         "name": "Amenity",
         "type": "\"boolean\""
        },
        {
         "metadata": "{}",
         "name": "Bump",
         "type": "\"boolean\""
        },
        {
         "metadata": "{}",
         "name": "Crossing",
         "type": "\"boolean\""
        },
        {
         "metadata": "{}",
         "name": "Give_Way",
         "type": "\"boolean\""
        },
        {
         "metadata": "{}",
         "name": "Junction",
         "type": "\"boolean\""
        },
        {
         "metadata": "{}",
         "name": "No_Exit",
         "type": "\"boolean\""
        },
        {
         "metadata": "{}",
         "name": "Railway",
         "type": "\"boolean\""
        },
        {
         "metadata": "{}",
         "name": "Roundabout",
         "type": "\"boolean\""
        },
        {
         "metadata": "{}",
         "name": "Station",
         "type": "\"boolean\""
        },
        {
         "metadata": "{}",
         "name": "Stop",
         "type": "\"boolean\""
        },
        {
         "metadata": "{}",
         "name": "Traffic_Calming",
         "type": "\"boolean\""
        },
        {
         "metadata": "{}",
         "name": "Traffic_Signal",
         "type": "\"boolean\""
        },
        {
         "metadata": "{}",
         "name": "Turning_Loop",
         "type": "\"boolean\""
        },
        {
         "metadata": "{}",
         "name": "Sunrise_Sunset",
         "type": "\"string\""
        },
        {
         "metadata": "{}",
         "name": "Civil_Twilight",
         "type": "\"string\""
        },
        {
         "metadata": "{}",
         "name": "Nautical_Twilight",
         "type": "\"string\""
        },
        {
         "metadata": "{}",
         "name": "Astronomical_Twilight",
         "type": "\"string\""
        }
       ],
       "type": "table"
      }
     },
     "output_type": "display_data"
    }
   ],
   "source": [
    "file_paths =[\n",
    "    \"/FileStore/tables/US_Accidents_March23_part1.csv\",\n",
    "    \"/FileStore/tables/US_Accidents_March23_part2.csv\",\n",
    "    \"/FileStore/tables/US_Accidents_March23_part3.csv\",\n",
    "    \"/FileStore/tables/US_Accidents_March23_part4.csv\",\n",
    "    \"/FileStore/tables/US_Accidents_March23_part7.csv\",\n",
    "    \"/FileStore/tables/US_Accidents_March23_part8.csv\",\n",
    "    \"/FileStore/tables/US_Accidents_March23_part11.csv\",\n",
    "    \"/FileStore/tables/US_Accidents_March23_part12.csv\",\n",
    "    \"/FileStore/tables/US_Accidents_March23_part13.csv\",\n",
    "    \"/FileStore/tables/US_Accidents_March23_part14.csv\",\n",
    "    \"/FileStore/tables/US_Accidents_March23_part15.csv\",\n",
    "    \"/FileStore/tables/US_Accidents_March23_part16.csv\"\n",
    "]\n",
    "\n",
    "# Load all the existing csv parts together\n",
    "bronze_df = spark.read.csv(file_paths, header=True, inferSchema=True)\n",
    "\n",
    "display(bronze_df.limit(5))"
   ]
  },
  {
   "cell_type": "code",
   "execution_count": 0,
   "metadata": {
    "application/vnd.databricks.v1+cell": {
     "cellMetadata": {
      "byteLimit": 2048000,
      "rowLimit": 10000
     },
     "inputWidgets": {},
     "nuid": "b80699ea-d5ad-4912-817c-9a8c5ad8e054",
     "showTitle": false,
     "tableResultSettingsMap": {
      "0": {
       "dataGridStateBlob": "{\"version\":1,\"tableState\":{\"columnPinning\":{\"left\":[\"#row_number#\"],\"right\":[]},\"columnSizing\":{\"name\":258,\"path\":422},\"columnVisibility\":{}},\"settings\":{\"columns\":{}},\"syncTimestamp\":1753313929769}",
       "filterBlob": null,
       "queryPlanFiltersBlob": null,
       "tableResultIndex": 0
      }
     },
     "title": ""
    }
   },
   "outputs": [
    {
     "output_type": "display_data",
     "data": {
      "text/html": [
       "<style scoped>\n",
       "  .table-result-container {\n",
       "    max-height: 300px;\n",
       "    overflow: auto;\n",
       "  }\n",
       "  table, th, td {\n",
       "    border: 1px solid black;\n",
       "    border-collapse: collapse;\n",
       "  }\n",
       "  th, td {\n",
       "    padding: 5px;\n",
       "  }\n",
       "  th {\n",
       "    text-align: left;\n",
       "  }\n",
       "</style><div class='table-result-container'><table class='table-result'><thead style='background-color: white'><tr><th>path</th><th>name</th><th>size</th><th>modificationTime</th></tr></thead><tbody><tr><td>dbfs:/FileStore/tables/US_Accidents_March23_part1.csv</td><td>US_Accidents_March23_part1.csv</td><td>185948083</td><td>1753308084000</td></tr><tr><td>dbfs:/FileStore/tables/US_Accidents_March23_part11.csv</td><td>US_Accidents_March23_part11.csv</td><td>214631434</td><td>1753311641000</td></tr><tr><td>dbfs:/FileStore/tables/US_Accidents_March23_part12.csv</td><td>US_Accidents_March23_part12.csv</td><td>214689170</td><td>1753311641000</td></tr><tr><td>dbfs:/FileStore/tables/US_Accidents_March23_part13.csv</td><td>US_Accidents_March23_part13.csv</td><td>211670187</td><td>1753311764000</td></tr><tr><td>dbfs:/FileStore/tables/US_Accidents_March23_part14.csv</td><td>US_Accidents_March23_part14.csv</td><td>202748332</td><td>1753311764000</td></tr><tr><td>dbfs:/FileStore/tables/US_Accidents_March23_part15.csv</td><td>US_Accidents_March23_part15.csv</td><td>185251537</td><td>1753311858000</td></tr><tr><td>dbfs:/FileStore/tables/US_Accidents_March23_part16.csv</td><td>US_Accidents_March23_part16.csv</td><td>85796042</td><td>1753311834000</td></tr><tr><td>dbfs:/FileStore/tables/US_Accidents_March23_part2.csv</td><td>US_Accidents_March23_part2.csv</td><td>188601922</td><td>1753308085000</td></tr><tr><td>dbfs:/FileStore/tables/US_Accidents_March23_part3.csv</td><td>US_Accidents_March23_part3.csv</td><td>188754231</td><td>1753308223000</td></tr><tr><td>dbfs:/FileStore/tables/US_Accidents_March23_part4.csv</td><td>US_Accidents_March23_part4.csv</td><td>188003058</td><td>1753308224000</td></tr><tr><td>dbfs:/FileStore/tables/US_Accidents_March23_part7.csv</td><td>US_Accidents_March23_part7.csv</td><td>184553781</td><td>1753310341000</td></tr><tr><td>dbfs:/FileStore/tables/US_Accidents_March23_part8.csv</td><td>US_Accidents_March23_part8.csv</td><td>205439909</td><td>1753310346000</td></tr><tr><td>dbfs:/FileStore/tables/silver/</td><td>silver/</td><td>0</td><td>1753320481000</td></tr></tbody></table></div>"
      ]
     },
     "metadata": {
      "application/vnd.databricks.v1+output": {
       "addedWidgets": {},
       "aggData": [],
       "aggError": "",
       "aggOverflow": false,
       "aggSchema": [],
       "aggSeriesLimitReached": false,
       "aggType": "",
       "arguments": {},
       "columnCustomDisplayInfos": {},
       "data": [
        [
         "dbfs:/FileStore/tables/US_Accidents_March23_part1.csv",
         "US_Accidents_March23_part1.csv",
         185948083,
         1753308084000
        ],
        [
         "dbfs:/FileStore/tables/US_Accidents_March23_part11.csv",
         "US_Accidents_March23_part11.csv",
         214631434,
         1753311641000
        ],
        [
         "dbfs:/FileStore/tables/US_Accidents_March23_part12.csv",
         "US_Accidents_March23_part12.csv",
         214689170,
         1753311641000
        ],
        [
         "dbfs:/FileStore/tables/US_Accidents_March23_part13.csv",
         "US_Accidents_March23_part13.csv",
         211670187,
         1753311764000
        ],
        [
         "dbfs:/FileStore/tables/US_Accidents_March23_part14.csv",
         "US_Accidents_March23_part14.csv",
         202748332,
         1753311764000
        ],
        [
         "dbfs:/FileStore/tables/US_Accidents_March23_part15.csv",
         "US_Accidents_March23_part15.csv",
         185251537,
         1753311858000
        ],
        [
         "dbfs:/FileStore/tables/US_Accidents_March23_part16.csv",
         "US_Accidents_March23_part16.csv",
         85796042,
         1753311834000
        ],
        [
         "dbfs:/FileStore/tables/US_Accidents_March23_part2.csv",
         "US_Accidents_March23_part2.csv",
         188601922,
         1753308085000
        ],
        [
         "dbfs:/FileStore/tables/US_Accidents_March23_part3.csv",
         "US_Accidents_March23_part3.csv",
         188754231,
         1753308223000
        ],
        [
         "dbfs:/FileStore/tables/US_Accidents_March23_part4.csv",
         "US_Accidents_March23_part4.csv",
         188003058,
         1753308224000
        ],
        [
         "dbfs:/FileStore/tables/US_Accidents_March23_part7.csv",
         "US_Accidents_March23_part7.csv",
         184553781,
         1753310341000
        ],
        [
         "dbfs:/FileStore/tables/US_Accidents_March23_part8.csv",
         "US_Accidents_March23_part8.csv",
         205439909,
         1753310346000
        ],
        [
         "dbfs:/FileStore/tables/silver/",
         "silver/",
         0,
         1753320481000
        ]
       ],
       "datasetInfos": [],
       "dbfsResultPath": null,
       "isJsonSchema": true,
       "metadata": {},
       "overflow": false,
       "plotOptions": {
        "customPlotOptions": {},
        "displayType": "table",
        "pivotAggregation": null,
        "pivotColumns": null,
        "xColumns": null,
        "yColumns": null
       },
       "removedWidgets": [],
       "schema": [
        {
         "metadata": "{}",
         "name": "path",
         "type": "\"string\""
        },
        {
         "metadata": "{}",
         "name": "name",
         "type": "\"string\""
        },
        {
         "metadata": "{}",
         "name": "size",
         "type": "\"long\""
        },
        {
         "metadata": "{}",
         "name": "modificationTime",
         "type": "\"long\""
        }
       ],
       "type": "table"
      }
     },
     "output_type": "display_data"
    }
   ],
   "source": [
    "display(dbutils.fs.ls(\"FileStore/tables\"))"
   ]
  },
  {
   "cell_type": "code",
   "execution_count": 0,
   "metadata": {
    "application/vnd.databricks.v1+cell": {
     "cellMetadata": {
      "byteLimit": 2048000,
      "rowLimit": 10000
     },
     "inputWidgets": {},
     "nuid": "4beaa70a-b6f2-4c09-a844-af3abaffefa1",
     "showTitle": false,
     "tableResultSettingsMap": {},
     "title": ""
    }
   },
   "outputs": [
    {
     "output_type": "display_data",
     "data": {
      "text/html": [
       "<h3>Shape of the DataFrame: (5728394, 46)</h3>"
      ]
     },
     "metadata": {},
     "output_type": "display_data"
    }
   ],
   "source": [
    "#Get num of rows\n",
    "num_rows = bronze_df.count()\n",
    "#Get num of columns\n",
    "num_col = len(bronze_df.columns)\n",
    "#To know the shape\n",
    "#print(f'shape of DataFrame:({num_rows}, {num_col})')\n",
    "# Display the shape\n",
    "displayHTML(f\"<h3>Shape of the DataFrame: ({num_rows}, {num_col})</h3>\")"
   ]
  },
  {
   "cell_type": "code",
   "execution_count": 0,
   "metadata": {
    "application/vnd.databricks.v1+cell": {
     "cellMetadata": {
      "byteLimit": 2048000,
      "rowLimit": 10000
     },
     "inputWidgets": {},
     "nuid": "c5e017c7-f27d-4135-901c-a68f6488e8b5",
     "showTitle": false,
     "tableResultSettingsMap": {
      "0": {
       "dataGridStateBlob": "{\"version\":1,\"tableState\":{\"columnPinning\":{\"left\":[\"#row_number#\"],\"right\":[]},\"columnSizing\":{\"Weather_Timestamp\":219},\"columnVisibility\":{}},\"settings\":{\"columns\":{}},\"syncTimestamp\":1753317567052}",
       "filterBlob": null,
       "queryPlanFiltersBlob": null,
       "tableResultIndex": 0
      }
     },
     "title": ""
    }
   },
   "outputs": [
    {
     "output_type": "display_data",
     "data": {
      "text/html": [
       "<style scoped>\n",
       "  .table-result-container {\n",
       "    max-height: 300px;\n",
       "    overflow: auto;\n",
       "  }\n",
       "  table, th, td {\n",
       "    border: 1px solid black;\n",
       "    border-collapse: collapse;\n",
       "  }\n",
       "  th, td {\n",
       "    padding: 5px;\n",
       "  }\n",
       "  th {\n",
       "    text-align: left;\n",
       "  }\n",
       "</style><div class='table-result-container'><table class='table-result'><thead style='background-color: white'><tr><th>ID</th><th>Source</th><th>Severity</th><th>Start_Time</th><th>End_Time</th><th>Start_Lat</th><th>Start_Lng</th><th>End_Lat</th><th>End_Lng</th><th>Distance(mi)</th><th>Description</th><th>Street</th><th>City</th><th>County</th><th>State</th><th>Zipcode</th><th>Country</th><th>Timezone</th><th>Airport_Code</th><th>Weather_Timestamp</th><th>Temperature(F)</th><th>Wind_Chill(F)</th><th>Humidity(%)</th><th>Pressure(in)</th><th>Visibility(mi)</th><th>Wind_Direction</th><th>Wind_Speed(mph)</th><th>Precipitation(in)</th><th>Weather_Condition</th><th>Amenity</th><th>Bump</th><th>Crossing</th><th>Give_Way</th><th>Junction</th><th>No_Exit</th><th>Railway</th><th>Roundabout</th><th>Station</th><th>Stop</th><th>Traffic_Calming</th><th>Traffic_Signal</th><th>Turning_Loop</th><th>Sunrise_Sunset</th><th>Civil_Twilight</th><th>Nautical_Twilight</th><th>Astronomical_Twilight</th></tr></thead><tbody><tr><td>A-1</td><td>Source2</td><td>3</td><td>2016-02-08T05:46:00Z</td><td>2016-02-08T11:00:00Z</td><td>39.865147</td><td>-84.058723</td><td>null</td><td>null</td><td>0.01</td><td>Right lane blocked due to accident on I-70 Eastbound at Exit 41 OH-235 State Route 4.</td><td>I-70 E</td><td>Dayton</td><td>Montgomery</td><td>OH</td><td>45424</td><td>US</td><td>US/Eastern</td><td>KFFO</td><td>2016-02-08T05:58:00Z</td><td>36.9</td><td>null</td><td>91.0</td><td>29.68</td><td>10.0</td><td>Calm</td><td>null</td><td>0.02</td><td>Light Rain</td><td>false</td><td>false</td><td>false</td><td>false</td><td>false</td><td>false</td><td>false</td><td>false</td><td>false</td><td>false</td><td>false</td><td>false</td><td>false</td><td>Night</td><td>Night</td><td>Night</td><td>Night</td></tr><tr><td>A-2</td><td>Source2</td><td>2</td><td>2016-02-08T06:07:59Z</td><td>2016-02-08T06:37:59Z</td><td>39.92805900000001</td><td>-82.831184</td><td>null</td><td>null</td><td>0.01</td><td>Accident on Brice Rd at Tussing Rd. Expect delays.</td><td>Brice Rd</td><td>Reynoldsburg</td><td>Franklin</td><td>OH</td><td>43068-3402</td><td>US</td><td>US/Eastern</td><td>KCMH</td><td>2016-02-08T05:51:00Z</td><td>37.9</td><td>null</td><td>100.0</td><td>29.65</td><td>10.0</td><td>Calm</td><td>null</td><td>0.0</td><td>Light Rain</td><td>false</td><td>false</td><td>false</td><td>false</td><td>false</td><td>false</td><td>false</td><td>false</td><td>false</td><td>false</td><td>false</td><td>false</td><td>false</td><td>Night</td><td>Night</td><td>Night</td><td>Day</td></tr><tr><td>A-3</td><td>Source2</td><td>2</td><td>2016-02-08T06:49:27Z</td><td>2016-02-08T07:19:27Z</td><td>39.063148</td><td>-84.032608</td><td>null</td><td>null</td><td>0.01</td><td>Accident on OH-32 State Route 32 Westbound at Dela Palma Rd. Expect delays.</td><td>State Route 32</td><td>Williamsburg</td><td>Clermont</td><td>OH</td><td>45176</td><td>US</td><td>US/Eastern</td><td>KI69</td><td>2016-02-08T06:56:00Z</td><td>36.0</td><td>33.3</td><td>100.0</td><td>29.67</td><td>10.0</td><td>SW</td><td>3.5</td><td>null</td><td>Overcast</td><td>false</td><td>false</td><td>false</td><td>false</td><td>false</td><td>false</td><td>false</td><td>false</td><td>false</td><td>false</td><td>false</td><td>true</td><td>false</td><td>Night</td><td>Night</td><td>Day</td><td>Day</td></tr><tr><td>A-4</td><td>Source2</td><td>3</td><td>2016-02-08T07:23:34Z</td><td>2016-02-08T07:53:34Z</td><td>39.747753</td><td>-84.20558199999998</td><td>null</td><td>null</td><td>0.01</td><td>Accident on I-75 Southbound at Exits 52 52B US-35. Expect delays.</td><td>I-75 S</td><td>Dayton</td><td>Montgomery</td><td>OH</td><td>45417</td><td>US</td><td>US/Eastern</td><td>KDAY</td><td>2016-02-08T07:38:00Z</td><td>35.1</td><td>31.0</td><td>96.0</td><td>29.64</td><td>9.0</td><td>SW</td><td>4.6</td><td>null</td><td>Mostly Cloudy</td><td>false</td><td>false</td><td>false</td><td>false</td><td>false</td><td>false</td><td>false</td><td>false</td><td>false</td><td>false</td><td>false</td><td>false</td><td>false</td><td>Night</td><td>Day</td><td>Day</td><td>Day</td></tr><tr><td>A-5</td><td>Source2</td><td>2</td><td>2016-02-08T07:39:07Z</td><td>2016-02-08T08:09:07Z</td><td>39.627781</td><td>-84.188354</td><td>null</td><td>null</td><td>0.01</td><td>Accident on McEwen Rd at OH-725 Miamisburg Centerville Rd. Expect delays.</td><td>Miamisburg Centerville Rd</td><td>Dayton</td><td>Montgomery</td><td>OH</td><td>45459</td><td>US</td><td>US/Eastern</td><td>KMGY</td><td>2016-02-08T07:53:00Z</td><td>36.0</td><td>33.3</td><td>89.0</td><td>29.65</td><td>6.0</td><td>SW</td><td>3.5</td><td>null</td><td>Mostly Cloudy</td><td>false</td><td>false</td><td>false</td><td>false</td><td>false</td><td>false</td><td>false</td><td>false</td><td>false</td><td>false</td><td>false</td><td>true</td><td>false</td><td>Day</td><td>Day</td><td>Day</td><td>Day</td></tr></tbody></table></div>"
      ]
     },
     "metadata": {
      "application/vnd.databricks.v1+output": {
       "addedWidgets": {},
       "aggData": [],
       "aggError": "",
       "aggOverflow": false,
       "aggSchema": [],
       "aggSeriesLimitReached": false,
       "aggType": "",
       "arguments": {},
       "columnCustomDisplayInfos": {},
       "data": [
        [
         "A-1",
         "Source2",
         3,
         "2016-02-08T05:46:00Z",
         "2016-02-08T11:00:00Z",
         39.865147,
         -84.058723,
         null,
         null,
         0.01,
         "Right lane blocked due to accident on I-70 Eastbound at Exit 41 OH-235 State Route 4.",
         "I-70 E",
         "Dayton",
         "Montgomery",
         "OH",
         "45424",
         "US",
         "US/Eastern",
         "KFFO",
         "2016-02-08T05:58:00Z",
         36.9,
         null,
         91.0,
         29.68,
         10.0,
         "Calm",
         null,
         0.02,
         "Light Rain",
         false,
         false,
         false,
         false,
         false,
         false,
         false,
         false,
         false,
         false,
         false,
         false,
         false,
         "Night",
         "Night",
         "Night",
         "Night"
        ],
        [
         "A-2",
         "Source2",
         2,
         "2016-02-08T06:07:59Z",
         "2016-02-08T06:37:59Z",
         39.92805900000001,
         -82.831184,
         null,
         null,
         0.01,
         "Accident on Brice Rd at Tussing Rd. Expect delays.",
         "Brice Rd",
         "Reynoldsburg",
         "Franklin",
         "OH",
         "43068-3402",
         "US",
         "US/Eastern",
         "KCMH",
         "2016-02-08T05:51:00Z",
         37.9,
         null,
         100.0,
         29.65,
         10.0,
         "Calm",
         null,
         0.0,
         "Light Rain",
         false,
         false,
         false,
         false,
         false,
         false,
         false,
         false,
         false,
         false,
         false,
         false,
         false,
         "Night",
         "Night",
         "Night",
         "Day"
        ],
        [
         "A-3",
         "Source2",
         2,
         "2016-02-08T06:49:27Z",
         "2016-02-08T07:19:27Z",
         39.063148,
         -84.032608,
         null,
         null,
         0.01,
         "Accident on OH-32 State Route 32 Westbound at Dela Palma Rd. Expect delays.",
         "State Route 32",
         "Williamsburg",
         "Clermont",
         "OH",
         "45176",
         "US",
         "US/Eastern",
         "KI69",
         "2016-02-08T06:56:00Z",
         36.0,
         33.3,
         100.0,
         29.67,
         10.0,
         "SW",
         3.5,
         null,
         "Overcast",
         false,
         false,
         false,
         false,
         false,
         false,
         false,
         false,
         false,
         false,
         false,
         true,
         false,
         "Night",
         "Night",
         "Day",
         "Day"
        ],
        [
         "A-4",
         "Source2",
         3,
         "2016-02-08T07:23:34Z",
         "2016-02-08T07:53:34Z",
         39.747753,
         -84.20558199999998,
         null,
         null,
         0.01,
         "Accident on I-75 Southbound at Exits 52 52B US-35. Expect delays.",
         "I-75 S",
         "Dayton",
         "Montgomery",
         "OH",
         "45417",
         "US",
         "US/Eastern",
         "KDAY",
         "2016-02-08T07:38:00Z",
         35.1,
         31.0,
         96.0,
         29.64,
         9.0,
         "SW",
         4.6,
         null,
         "Mostly Cloudy",
         false,
         false,
         false,
         false,
         false,
         false,
         false,
         false,
         false,
         false,
         false,
         false,
         false,
         "Night",
         "Day",
         "Day",
         "Day"
        ],
        [
         "A-5",
         "Source2",
         2,
         "2016-02-08T07:39:07Z",
         "2016-02-08T08:09:07Z",
         39.627781,
         -84.188354,
         null,
         null,
         0.01,
         "Accident on McEwen Rd at OH-725 Miamisburg Centerville Rd. Expect delays.",
         "Miamisburg Centerville Rd",
         "Dayton",
         "Montgomery",
         "OH",
         "45459",
         "US",
         "US/Eastern",
         "KMGY",
         "2016-02-08T07:53:00Z",
         36.0,
         33.3,
         89.0,
         29.65,
         6.0,
         "SW",
         3.5,
         null,
         "Mostly Cloudy",
         false,
         false,
         false,
         false,
         false,
         false,
         false,
         false,
         false,
         false,
         false,
         true,
         false,
         "Day",
         "Day",
         "Day",
         "Day"
        ]
       ],
       "datasetInfos": [],
       "dbfsResultPath": null,
       "isJsonSchema": true,
       "metadata": {},
       "overflow": false,
       "plotOptions": {
        "customPlotOptions": {},
        "displayType": "table",
        "pivotAggregation": null,
        "pivotColumns": null,
        "xColumns": null,
        "yColumns": null
       },
       "removedWidgets": [],
       "schema": [
        {
         "metadata": "{}",
         "name": "ID",
         "type": "\"string\""
        },
        {
         "metadata": "{}",
         "name": "Source",
         "type": "\"string\""
        },
        {
         "metadata": "{}",
         "name": "Severity",
         "type": "\"integer\""
        },
        {
         "metadata": "{}",
         "name": "Start_Time",
         "type": "\"timestamp\""
        },
        {
         "metadata": "{}",
         "name": "End_Time",
         "type": "\"timestamp\""
        },
        {
         "metadata": "{}",
         "name": "Start_Lat",
         "type": "\"double\""
        },
        {
         "metadata": "{}",
         "name": "Start_Lng",
         "type": "\"double\""
        },
        {
         "metadata": "{}",
         "name": "End_Lat",
         "type": "\"double\""
        },
        {
         "metadata": "{}",
         "name": "End_Lng",
         "type": "\"double\""
        },
        {
         "metadata": "{}",
         "name": "Distance(mi)",
         "type": "\"double\""
        },
        {
         "metadata": "{}",
         "name": "Description",
         "type": "\"string\""
        },
        {
         "metadata": "{}",
         "name": "Street",
         "type": "\"string\""
        },
        {
         "metadata": "{}",
         "name": "City",
         "type": "\"string\""
        },
        {
         "metadata": "{}",
         "name": "County",
         "type": "\"string\""
        },
        {
         "metadata": "{}",
         "name": "State",
         "type": "\"string\""
        },
        {
         "metadata": "{}",
         "name": "Zipcode",
         "type": "\"string\""
        },
        {
         "metadata": "{}",
         "name": "Country",
         "type": "\"string\""
        },
        {
         "metadata": "{}",
         "name": "Timezone",
         "type": "\"string\""
        },
        {
         "metadata": "{}",
         "name": "Airport_Code",
         "type": "\"string\""
        },
        {
         "metadata": "{}",
         "name": "Weather_Timestamp",
         "type": "\"timestamp\""
        },
        {
         "metadata": "{}",
         "name": "Temperature(F)",
         "type": "\"double\""
        },
        {
         "metadata": "{}",
         "name": "Wind_Chill(F)",
         "type": "\"double\""
        },
        {
         "metadata": "{}",
         "name": "Humidity(%)",
         "type": "\"double\""
        },
        {
         "metadata": "{}",
         "name": "Pressure(in)",
         "type": "\"double\""
        },
        {
         "metadata": "{}",
         "name": "Visibility(mi)",
         "type": "\"double\""
        },
        {
         "metadata": "{}",
         "name": "Wind_Direction",
         "type": "\"string\""
        },
        {
         "metadata": "{}",
         "name": "Wind_Speed(mph)",
         "type": "\"double\""
        },
        {
         "metadata": "{}",
         "name": "Precipitation(in)",
         "type": "\"double\""
        },
        {
         "metadata": "{}",
         "name": "Weather_Condition",
         "type": "\"string\""
        },
        {
         "metadata": "{}",
         "name": "Amenity",
         "type": "\"boolean\""
        },
        {
         "metadata": "{}",
         "name": "Bump",
         "type": "\"boolean\""
        },
        {
         "metadata": "{}",
         "name": "Crossing",
         "type": "\"boolean\""
        },
        {
         "metadata": "{}",
         "name": "Give_Way",
         "type": "\"boolean\""
        },
        {
         "metadata": "{}",
         "name": "Junction",
         "type": "\"boolean\""
        },
        {
         "metadata": "{}",
         "name": "No_Exit",
         "type": "\"boolean\""
        },
        {
         "metadata": "{}",
         "name": "Railway",
         "type": "\"boolean\""
        },
        {
         "metadata": "{}",
         "name": "Roundabout",
         "type": "\"boolean\""
        },
        {
         "metadata": "{}",
         "name": "Station",
         "type": "\"boolean\""
        },
        {
         "metadata": "{}",
         "name": "Stop",
         "type": "\"boolean\""
        },
        {
         "metadata": "{}",
         "name": "Traffic_Calming",
         "type": "\"boolean\""
        },
        {
         "metadata": "{}",
         "name": "Traffic_Signal",
         "type": "\"boolean\""
        },
        {
         "metadata": "{}",
         "name": "Turning_Loop",
         "type": "\"boolean\""
        },
        {
         "metadata": "{}",
         "name": "Sunrise_Sunset",
         "type": "\"string\""
        },
        {
         "metadata": "{}",
         "name": "Civil_Twilight",
         "type": "\"string\""
        },
        {
         "metadata": "{}",
         "name": "Nautical_Twilight",
         "type": "\"string\""
        },
        {
         "metadata": "{}",
         "name": "Astronomical_Twilight",
         "type": "\"string\""
        }
       ],
       "type": "table"
      }
     },
     "output_type": "display_data"
    }
   ],
   "source": [
    "%python\n",
    "# Convert Spark DataFrame to Pandas DataFrame\n",
    "bronze_df_pandas = bronze_df.limit(5).toPandas()\n",
    "\n",
    "# Display the first 5 rows of the Pandas DataFrame\n",
    "display(bronze_df_pandas)"
   ]
  },
  {
   "cell_type": "code",
   "execution_count": 0,
   "metadata": {
    "application/vnd.databricks.v1+cell": {
     "cellMetadata": {
      "byteLimit": 2048000,
      "rowLimit": 10000
     },
     "inputWidgets": {},
     "nuid": "ee9e2085-6ea2-424c-af4e-eb862b3f1a68",
     "showTitle": false,
     "tableResultSettingsMap": {},
     "title": ""
    }
   },
   "outputs": [
    {
     "output_type": "stream",
     "name": "stdout",
     "output_type": "stream",
     "text": [
      "root\n |-- ID: string (nullable = true)\n |-- Source: string (nullable = true)\n |-- Severity: integer (nullable = true)\n |-- Start_Time: timestamp (nullable = true)\n |-- End_Time: timestamp (nullable = true)\n |-- Start_Lat: double (nullable = true)\n |-- Start_Lng: double (nullable = true)\n |-- End_Lat: double (nullable = true)\n |-- End_Lng: double (nullable = true)\n |-- Distance(mi): double (nullable = true)\n |-- Description: string (nullable = true)\n |-- Street: string (nullable = true)\n |-- City: string (nullable = true)\n |-- County: string (nullable = true)\n |-- State: string (nullable = true)\n |-- Zipcode: string (nullable = true)\n |-- Country: string (nullable = true)\n |-- Timezone: string (nullable = true)\n |-- Airport_Code: string (nullable = true)\n |-- Weather_Timestamp: timestamp (nullable = true)\n |-- Temperature(F): double (nullable = true)\n |-- Wind_Chill(F): double (nullable = true)\n |-- Humidity(%): double (nullable = true)\n |-- Pressure(in): double (nullable = true)\n |-- Visibility(mi): double (nullable = true)\n |-- Wind_Direction: string (nullable = true)\n |-- Wind_Speed(mph): double (nullable = true)\n |-- Precipitation(in): double (nullable = true)\n |-- Weather_Condition: string (nullable = true)\n |-- Amenity: boolean (nullable = true)\n |-- Bump: boolean (nullable = true)\n |-- Crossing: boolean (nullable = true)\n |-- Give_Way: boolean (nullable = true)\n |-- Junction: boolean (nullable = true)\n |-- No_Exit: boolean (nullable = true)\n |-- Railway: boolean (nullable = true)\n |-- Roundabout: boolean (nullable = true)\n |-- Station: boolean (nullable = true)\n |-- Stop: boolean (nullable = true)\n |-- Traffic_Calming: boolean (nullable = true)\n |-- Traffic_Signal: boolean (nullable = true)\n |-- Turning_Loop: boolean (nullable = true)\n |-- Sunrise_Sunset: string (nullable = true)\n |-- Civil_Twilight: string (nullable = true)\n |-- Nautical_Twilight: string (nullable = true)\n |-- Astronomical_Twilight: string (nullable = true)\n\n"
     ]
    }
   ],
   "source": [
    "#To display the schema\n",
    "bronze_df.printSchema()"
   ]
  },
  {
   "cell_type": "code",
   "execution_count": 0,
   "metadata": {
    "application/vnd.databricks.v1+cell": {
     "cellMetadata": {
      "byteLimit": 2048000,
      "rowLimit": 10000
     },
     "inputWidgets": {},
     "nuid": "f7e53b77-6881-4240-966d-cc67ad558b84",
     "showTitle": false,
     "tableResultSettingsMap": {},
     "title": ""
    }
   },
   "outputs": [
    {
     "output_type": "display_data",
     "data": {
      "text/html": [
       "<style scoped>\n",
       "  .table-result-container {\n",
       "    max-height: 300px;\n",
       "    overflow: auto;\n",
       "  }\n",
       "  table, th, td {\n",
       "    border: 1px solid black;\n",
       "    border-collapse: collapse;\n",
       "  }\n",
       "  th, td {\n",
       "    padding: 5px;\n",
       "  }\n",
       "  th {\n",
       "    text-align: left;\n",
       "  }\n",
       "</style><div class='table-result-container'><table class='table-result'><thead style='background-color: white'><tr><th>summary</th><th>ID</th><th>Source</th><th>Severity</th><th>Start_Lat</th><th>Start_Lng</th><th>End_Lat</th><th>End_Lng</th><th>Distance(mi)</th><th>Description</th><th>Street</th><th>City</th><th>County</th><th>State</th><th>Zipcode</th><th>Country</th><th>Timezone</th><th>Airport_Code</th><th>Temperature(F)</th><th>Wind_Chill(F)</th><th>Humidity(%)</th><th>Pressure(in)</th><th>Visibility(mi)</th><th>Wind_Direction</th><th>Wind_Speed(mph)</th><th>Precipitation(in)</th><th>Weather_Condition</th><th>Sunrise_Sunset</th><th>Civil_Twilight</th><th>Nautical_Twilight</th><th>Astronomical_Twilight</th></tr></thead><tbody><tr><td>count</td><td>5728394</td><td>5728394</td><td>5728394</td><td>5728394</td><td>5728394</td><td>3325632</td><td>3325632</td><td>5728394</td><td>5728390</td><td>5721098</td><td>5728190</td><td>5728394</td><td>5728394</td><td>5726775</td><td>5728394</td><td>5722537</td><td>5711947</td><td>5603881</td><td>4411095</td><td>5595939</td><td>5621961</td><td>5595537</td><td>5595060</td><td>5342373</td><td>4272506</td><td>5597926</td><td>5713631</td><td>5713631</td><td>5713631</td><td>5713631</td></tr><tr><td>mean</td><td>null</td><td>null</td><td>2.216766863452479</td><td>36.237180922060865</td><td>-95.156002056226</td><td>36.335460375973156</td><td>-96.33916060607663</td><td>0.5425242754032846</td><td>1096.6666666666667</td><td>null</td><td>null</td><td>null</td><td>null</td><td>57674.02992961756</td><td>null</td><td>null</td><td>null</td><td>61.68364076610453</td><td>58.582832357951936</td><td>64.91603804115806</td><td>29.51167969503889</td><td>9.099359158915425</td><td>null</td><td>7.551498669224718</td><td>0.008007155519499905</td><td>null</td><td>null</td><td>null</td><td>null</td><td>null</td></tr><tr><td>stddev</td><td>null</td><td>null</td><td>0.5043679627320824</td><td>5.109432650848612</td><td>17.575415368950782</td><td>5.2871029356329124</td><td>18.211583437951038</td><td>1.7234630100269808</td><td>171.95146900305244</td><td>null</td><td>null</td><td>null</td><td>null</td><td>31051.40346343124</td><td>null</td><td>null</td><td>null</td><td>18.827203113849702</td><td>21.912866410928963</td><td>22.784501464477913</td><td>1.0158523090655742</td><td>2.65750741012453</td><td>null</td><td>5.469075435368797</td><td>0.11231233717846621</td><td>null</td><td>null</td><td>null</td><td>null</td><td>null</td></tr><tr><td>min</td><td>A-1</td><td>Source1</td><td>1</td><td>24.5548</td><td>-124.623833</td><td>24.566013</td><td>-124.545748</td><td>0.0</td><td> 1039 GOLDEN BEAR - BOT</td><td> 1 1/2 Ave</td><td>Aaronsburg</td><td>Abbeville</td><td>AL</td><td>01001</td><td>US</td><td>US/Central</td><td>K01M</td><td>-89.0</td><td>-89.0</td><td>1.0</td><td>0.0</td><td>0.0</td><td>CALM</td><td>0.0</td><td>0.0</td><td>Blowing Dust</td><td>Day</td><td>Day</td><td>Day</td><td>Day</td></tr><tr><td>max</td><td>A-999999</td><td>Source3</td><td>4</td><td>49.002201</td><td>-67.113167</td><td>49.075</td><td>-67.10924200000001</td><td>441.75</td><td> VEHICLE CRASH I77 SB NEAR LAKEVIEW ROAD THAT HAS THE CENTER AND FAR RIGHT LANE BLOCKED </td><td>william Carey Dr</td><td>Zwingle</td><td>Ziebach</td><td>WY</td><td>99403</td><td>US</td><td>US/Pacific</td><td>KZZV</td><td>207.0</td><td>207.0</td><td>100.0</td><td>58.63</td><td>140.0</td><td>West</td><td>1087.0</td><td>36.47</td><td>Wintry Mix / Windy</td><td>Night</td><td>Night</td><td>Night</td><td>Night</td></tr></tbody></table></div>"
      ]
     },
     "metadata": {
      "application/vnd.databricks.v1+output": {
       "addedWidgets": {},
       "aggData": [],
       "aggError": "",
       "aggOverflow": false,
       "aggSchema": [],
       "aggSeriesLimitReached": false,
       "aggType": "",
       "arguments": {},
       "columnCustomDisplayInfos": {},
       "data": [
        [
         "count",
         "5728394",
         "5728394",
         "5728394",
         "5728394",
         "5728394",
         "3325632",
         "3325632",
         "5728394",
         "5728390",
         "5721098",
         "5728190",
         "5728394",
         "5728394",
         "5726775",
         "5728394",
         "5722537",
         "5711947",
         "5603881",
         "4411095",
         "5595939",
         "5621961",
         "5595537",
         "5595060",
         "5342373",
         "4272506",
         "5597926",
         "5713631",
         "5713631",
         "5713631",
         "5713631"
        ],
        [
         "mean",
         null,
         null,
         "2.216766863452479",
         "36.237180922060865",
         "-95.156002056226",
         "36.335460375973156",
         "-96.33916060607663",
         "0.5425242754032846",
         "1096.6666666666667",
         null,
         null,
         null,
         null,
         "57674.02992961756",
         null,
         null,
         null,
         "61.68364076610453",
         "58.582832357951936",
         "64.91603804115806",
         "29.51167969503889",
         "9.099359158915425",
         null,
         "7.551498669224718",
         "0.008007155519499905",
         null,
         null,
         null,
         null,
         null
        ],
        [
         "stddev",
         null,
         null,
         "0.5043679627320824",
         "5.109432650848612",
         "17.575415368950782",
         "5.2871029356329124",
         "18.211583437951038",
         "1.7234630100269808",
         "171.95146900305244",
         null,
         null,
         null,
         null,
         "31051.40346343124",
         null,
         null,
         null,
         "18.827203113849702",
         "21.912866410928963",
         "22.784501464477913",
         "1.0158523090655742",
         "2.65750741012453",
         null,
         "5.469075435368797",
         "0.11231233717846621",
         null,
         null,
         null,
         null,
         null
        ],
        [
         "min",
         "A-1",
         "Source1",
         "1",
         "24.5548",
         "-124.623833",
         "24.566013",
         "-124.545748",
         "0.0",
         " 1039 GOLDEN BEAR - BOT",
         " 1 1/2 Ave",
         "Aaronsburg",
         "Abbeville",
         "AL",
         "01001",
         "US",
         "US/Central",
         "K01M",
         "-89.0",
         "-89.0",
         "1.0",
         "0.0",
         "0.0",
         "CALM",
         "0.0",
         "0.0",
         "Blowing Dust",
         "Day",
         "Day",
         "Day",
         "Day"
        ],
        [
         "max",
         "A-999999",
         "Source3",
         "4",
         "49.002201",
         "-67.113167",
         "49.075",
         "-67.10924200000001",
         "441.75",
         " VEHICLE CRASH I77 SB NEAR LAKEVIEW ROAD THAT HAS THE CENTER AND FAR RIGHT LANE BLOCKED ",
         "william Carey Dr",
         "Zwingle",
         "Ziebach",
         "WY",
         "99403",
         "US",
         "US/Pacific",
         "KZZV",
         "207.0",
         "207.0",
         "100.0",
         "58.63",
         "140.0",
         "West",
         "1087.0",
         "36.47",
         "Wintry Mix / Windy",
         "Night",
         "Night",
         "Night",
         "Night"
        ]
       ],
       "datasetInfos": [],
       "dbfsResultPath": null,
       "isJsonSchema": true,
       "metadata": {},
       "overflow": false,
       "plotOptions": {
        "customPlotOptions": {},
        "displayType": "table",
        "pivotAggregation": null,
        "pivotColumns": null,
        "xColumns": null,
        "yColumns": null
       },
       "removedWidgets": [],
       "schema": [
        {
         "metadata": "{}",
         "name": "summary",
         "type": "\"string\""
        },
        {
         "metadata": "{}",
         "name": "ID",
         "type": "\"string\""
        },
        {
         "metadata": "{}",
         "name": "Source",
         "type": "\"string\""
        },
        {
         "metadata": "{}",
         "name": "Severity",
         "type": "\"string\""
        },
        {
         "metadata": "{}",
         "name": "Start_Lat",
         "type": "\"string\""
        },
        {
         "metadata": "{}",
         "name": "Start_Lng",
         "type": "\"string\""
        },
        {
         "metadata": "{}",
         "name": "End_Lat",
         "type": "\"string\""
        },
        {
         "metadata": "{}",
         "name": "End_Lng",
         "type": "\"string\""
        },
        {
         "metadata": "{}",
         "name": "Distance(mi)",
         "type": "\"string\""
        },
        {
         "metadata": "{}",
         "name": "Description",
         "type": "\"string\""
        },
        {
         "metadata": "{}",
         "name": "Street",
         "type": "\"string\""
        },
        {
         "metadata": "{}",
         "name": "City",
         "type": "\"string\""
        },
        {
         "metadata": "{}",
         "name": "County",
         "type": "\"string\""
        },
        {
         "metadata": "{}",
         "name": "State",
         "type": "\"string\""
        },
        {
         "metadata": "{}",
         "name": "Zipcode",
         "type": "\"string\""
        },
        {
         "metadata": "{}",
         "name": "Country",
         "type": "\"string\""
        },
        {
         "metadata": "{}",
         "name": "Timezone",
         "type": "\"string\""
        },
        {
         "metadata": "{}",
         "name": "Airport_Code",
         "type": "\"string\""
        },
        {
         "metadata": "{}",
         "name": "Temperature(F)",
         "type": "\"string\""
        },
        {
         "metadata": "{}",
         "name": "Wind_Chill(F)",
         "type": "\"string\""
        },
        {
         "metadata": "{}",
         "name": "Humidity(%)",
         "type": "\"string\""
        },
        {
         "metadata": "{}",
         "name": "Pressure(in)",
         "type": "\"string\""
        },
        {
         "metadata": "{}",
         "name": "Visibility(mi)",
         "type": "\"string\""
        },
        {
         "metadata": "{}",
         "name": "Wind_Direction",
         "type": "\"string\""
        },
        {
         "metadata": "{}",
         "name": "Wind_Speed(mph)",
         "type": "\"string\""
        },
        {
         "metadata": "{}",
         "name": "Precipitation(in)",
         "type": "\"string\""
        },
        {
         "metadata": "{}",
         "name": "Weather_Condition",
         "type": "\"string\""
        },
        {
         "metadata": "{}",
         "name": "Sunrise_Sunset",
         "type": "\"string\""
        },
        {
         "metadata": "{}",
         "name": "Civil_Twilight",
         "type": "\"string\""
        },
        {
         "metadata": "{}",
         "name": "Nautical_Twilight",
         "type": "\"string\""
        },
        {
         "metadata": "{}",
         "name": "Astronomical_Twilight",
         "type": "\"string\""
        }
       ],
       "type": "table"
      }
     },
     "output_type": "display_data"
    }
   ],
   "source": [
    "summary_df = bronze_df.describe()\n",
    "display(summary_df)"
   ]
  },
  {
   "cell_type": "markdown",
   "metadata": {
    "application/vnd.databricks.v1+cell": {
     "cellMetadata": {
      "byteLimit": 2048000,
      "rowLimit": 10000
     },
     "inputWidgets": {},
     "nuid": "7855c46a-2a82-438c-bc6b-23134c1b6513",
     "showTitle": false,
     "tableResultSettingsMap": {},
     "title": ""
    }
   },
   "source": [
    "## Silver Layer – Clean & Curated\n",
    "\n",
    "### Objective:\n",
    "Clean the raw Bronze data (remove duplicates, handle nulls, cast datatypes) and save as a **Delta table** for reliable downstream analytics.\n"
   ]
  },
  {
   "cell_type": "code",
   "execution_count": 0,
   "metadata": {
    "application/vnd.databricks.v1+cell": {
     "cellMetadata": {
      "byteLimit": 2048000,
      "rowLimit": 10000
     },
     "inputWidgets": {},
     "nuid": "79bef52e-1661-405c-8dff-1f603463bc26",
     "showTitle": false,
     "tableResultSettingsMap": {},
     "title": ""
    }
   },
   "outputs": [
    {
     "output_type": "display_data",
     "data": {
      "text/html": [
       "<style scoped>\n",
       "  .table-result-container {\n",
       "    max-height: 300px;\n",
       "    overflow: auto;\n",
       "  }\n",
       "  table, th, td {\n",
       "    border: 1px solid black;\n",
       "    border-collapse: collapse;\n",
       "  }\n",
       "  th, td {\n",
       "    padding: 5px;\n",
       "  }\n",
       "  th {\n",
       "    text-align: left;\n",
       "  }\n",
       "</style><div class='table-result-container'><table class='table-result'><thead style='background-color: white'><tr><th>ID</th><th>Source</th><th>Severity</th><th>Start_Time</th><th>End_Time</th><th>Start_Lat</th><th>Start_Lng</th><th>End_Lat</th><th>End_Lng</th><th>Distance(mi)</th><th>Description</th><th>Street</th><th>City</th><th>County</th><th>State</th><th>Zipcode</th><th>Country</th><th>Timezone</th><th>Airport_Code</th><th>Weather_Timestamp</th><th>Temperature(F)</th><th>Wind_Chill(F)</th><th>Humidity(%)</th><th>Pressure(in)</th><th>Visibility(mi)</th><th>Wind_Direction</th><th>Wind_Speed(mph)</th><th>Precipitation(in)</th><th>Weather_Condition</th><th>Amenity</th><th>Bump</th><th>Crossing</th><th>Give_Way</th><th>Junction</th><th>No_Exit</th><th>Railway</th><th>Roundabout</th><th>Station</th><th>Stop</th><th>Traffic_Calming</th><th>Traffic_Signal</th><th>Turning_Loop</th><th>Sunrise_Sunset</th><th>Civil_Twilight</th><th>Nautical_Twilight</th><th>Astronomical_Twilight</th><th>count</th></tr></thead><tbody></tbody></table></div>"
      ]
     },
     "metadata": {
      "application/vnd.databricks.v1+output": {
       "addedWidgets": {},
       "aggData": [],
       "aggError": "",
       "aggOverflow": false,
       "aggSchema": [],
       "aggSeriesLimitReached": false,
       "aggType": "",
       "arguments": {},
       "columnCustomDisplayInfos": {},
       "data": [],
       "datasetInfos": [],
       "dbfsResultPath": null,
       "isJsonSchema": true,
       "metadata": {},
       "overflow": false,
       "plotOptions": {
        "customPlotOptions": {},
        "displayType": "table",
        "pivotAggregation": null,
        "pivotColumns": null,
        "xColumns": null,
        "yColumns": null
       },
       "removedWidgets": [],
       "schema": [
        {
         "metadata": "{}",
         "name": "ID",
         "type": "\"string\""
        },
        {
         "metadata": "{}",
         "name": "Source",
         "type": "\"string\""
        },
        {
         "metadata": "{}",
         "name": "Severity",
         "type": "\"integer\""
        },
        {
         "metadata": "{}",
         "name": "Start_Time",
         "type": "\"timestamp\""
        },
        {
         "metadata": "{}",
         "name": "End_Time",
         "type": "\"timestamp\""
        },
        {
         "metadata": "{}",
         "name": "Start_Lat",
         "type": "\"double\""
        },
        {
         "metadata": "{}",
         "name": "Start_Lng",
         "type": "\"double\""
        },
        {
         "metadata": "{}",
         "name": "End_Lat",
         "type": "\"double\""
        },
        {
         "metadata": "{}",
         "name": "End_Lng",
         "type": "\"double\""
        },
        {
         "metadata": "{}",
         "name": "Distance(mi)",
         "type": "\"double\""
        },
        {
         "metadata": "{}",
         "name": "Description",
         "type": "\"string\""
        },
        {
         "metadata": "{}",
         "name": "Street",
         "type": "\"string\""
        },
        {
         "metadata": "{}",
         "name": "City",
         "type": "\"string\""
        },
        {
         "metadata": "{}",
         "name": "County",
         "type": "\"string\""
        },
        {
         "metadata": "{}",
         "name": "State",
         "type": "\"string\""
        },
        {
         "metadata": "{}",
         "name": "Zipcode",
         "type": "\"string\""
        },
        {
         "metadata": "{}",
         "name": "Country",
         "type": "\"string\""
        },
        {
         "metadata": "{}",
         "name": "Timezone",
         "type": "\"string\""
        },
        {
         "metadata": "{}",
         "name": "Airport_Code",
         "type": "\"string\""
        },
        {
         "metadata": "{}",
         "name": "Weather_Timestamp",
         "type": "\"timestamp\""
        },
        {
         "metadata": "{}",
         "name": "Temperature(F)",
         "type": "\"double\""
        },
        {
         "metadata": "{}",
         "name": "Wind_Chill(F)",
         "type": "\"double\""
        },
        {
         "metadata": "{}",
         "name": "Humidity(%)",
         "type": "\"double\""
        },
        {
         "metadata": "{}",
         "name": "Pressure(in)",
         "type": "\"double\""
        },
        {
         "metadata": "{}",
         "name": "Visibility(mi)",
         "type": "\"double\""
        },
        {
         "metadata": "{}",
         "name": "Wind_Direction",
         "type": "\"string\""
        },
        {
         "metadata": "{}",
         "name": "Wind_Speed(mph)",
         "type": "\"double\""
        },
        {
         "metadata": "{}",
         "name": "Precipitation(in)",
         "type": "\"double\""
        },
        {
         "metadata": "{}",
         "name": "Weather_Condition",
         "type": "\"string\""
        },
        {
         "metadata": "{}",
         "name": "Amenity",
         "type": "\"boolean\""
        },
        {
         "metadata": "{}",
         "name": "Bump",
         "type": "\"boolean\""
        },
        {
         "metadata": "{}",
         "name": "Crossing",
         "type": "\"boolean\""
        },
        {
         "metadata": "{}",
         "name": "Give_Way",
         "type": "\"boolean\""
        },
        {
         "metadata": "{}",
         "name": "Junction",
         "type": "\"boolean\""
        },
        {
         "metadata": "{}",
         "name": "No_Exit",
         "type": "\"boolean\""
        },
        {
         "metadata": "{}",
         "name": "Railway",
         "type": "\"boolean\""
        },
        {
         "metadata": "{}",
         "name": "Roundabout",
         "type": "\"boolean\""
        },
        {
         "metadata": "{}",
         "name": "Station",
         "type": "\"boolean\""
        },
        {
         "metadata": "{}",
         "name": "Stop",
         "type": "\"boolean\""
        },
        {
         "metadata": "{}",
         "name": "Traffic_Calming",
         "type": "\"boolean\""
        },
        {
         "metadata": "{}",
         "name": "Traffic_Signal",
         "type": "\"boolean\""
        },
        {
         "metadata": "{}",
         "name": "Turning_Loop",
         "type": "\"boolean\""
        },
        {
         "metadata": "{}",
         "name": "Sunrise_Sunset",
         "type": "\"string\""
        },
        {
         "metadata": "{}",
         "name": "Civil_Twilight",
         "type": "\"string\""
        },
        {
         "metadata": "{}",
         "name": "Nautical_Twilight",
         "type": "\"string\""
        },
        {
         "metadata": "{}",
         "name": "Astronomical_Twilight",
         "type": "\"string\""
        },
        {
         "metadata": "{}",
         "name": "count",
         "type": "\"long\""
        }
       ],
       "type": "table"
      }
     },
     "output_type": "display_data"
    }
   ],
   "source": [
    "#Checking for duplicates\n",
    "duplicates_df = bronze_df.groupBy(bronze_df.columns).count().where('count>1')\n",
    "display(duplicates_df)"
   ]
  },
  {
   "cell_type": "code",
   "execution_count": 0,
   "metadata": {
    "application/vnd.databricks.v1+cell": {
     "cellMetadata": {
      "byteLimit": 2048000,
      "rowLimit": 10000
     },
     "inputWidgets": {},
     "nuid": "28a0c753-43ff-41c7-a9c8-e5952e26a93b",
     "showTitle": false,
     "tableResultSettingsMap": {},
     "title": ""
    }
   },
   "outputs": [
    {
     "output_type": "display_data",
     "data": {
      "text/html": [
       "<style scoped>\n",
       "  .table-result-container {\n",
       "    max-height: 300px;\n",
       "    overflow: auto;\n",
       "  }\n",
       "  table, th, td {\n",
       "    border: 1px solid black;\n",
       "    border-collapse: collapse;\n",
       "  }\n",
       "  th, td {\n",
       "    padding: 5px;\n",
       "  }\n",
       "  th {\n",
       "    text-align: left;\n",
       "  }\n",
       "</style><div class='table-result-container'><table class='table-result'><thead style='background-color: white'><tr><th>ID</th><th>Source</th><th>Severity</th><th>Start_Time</th><th>End_Time</th><th>Start_Lat</th><th>Start_Lng</th><th>End_Lat</th><th>End_Lng</th><th>Distance(mi)</th><th>Description</th><th>Street</th><th>City</th><th>County</th><th>State</th><th>Zipcode</th><th>Country</th><th>Timezone</th><th>Airport_Code</th><th>Weather_Timestamp</th><th>Temperature(F)</th><th>Wind_Chill(F)</th><th>Humidity(%)</th><th>Pressure(in)</th><th>Visibility(mi)</th><th>Wind_Direction</th><th>Wind_Speed(mph)</th><th>Precipitation(in)</th><th>Weather_Condition</th><th>Amenity</th><th>Bump</th><th>Crossing</th><th>Give_Way</th><th>Junction</th><th>No_Exit</th><th>Railway</th><th>Roundabout</th><th>Station</th><th>Stop</th><th>Traffic_Calming</th><th>Traffic_Signal</th><th>Turning_Loop</th><th>Sunrise_Sunset</th><th>Civil_Twilight</th><th>Nautical_Twilight</th><th>Astronomical_Twilight</th></tr></thead><tbody><tr><td>0</td><td>0</td><td>0</td><td>0</td><td>0</td><td>0</td><td>0</td><td>2402762</td><td>2402762</td><td>0</td><td>4</td><td>7296</td><td>204</td><td>0</td><td>0</td><td>1619</td><td>0</td><td>5857</td><td>16447</td><td>91066</td><td>124513</td><td>1317299</td><td>132455</td><td>106433</td><td>132857</td><td>133334</td><td>386021</td><td>1455888</td><td>130468</td><td>0</td><td>0</td><td>0</td><td>0</td><td>0</td><td>0</td><td>0</td><td>0</td><td>0</td><td>0</td><td>0</td><td>0</td><td>0</td><td>14763</td><td>14763</td><td>14763</td><td>14763</td></tr></tbody></table></div>"
      ]
     },
     "metadata": {
      "application/vnd.databricks.v1+output": {
       "addedWidgets": {},
       "aggData": [],
       "aggError": "",
       "aggOverflow": false,
       "aggSchema": [],
       "aggSeriesLimitReached": false,
       "aggType": "",
       "arguments": {},
       "columnCustomDisplayInfos": {},
       "data": [
        [
         0,
         0,
         0,
         0,
         0,
         0,
         0,
         2402762,
         2402762,
         0,
         4,
         7296,
         204,
         0,
         0,
         1619,
         0,
         5857,
         16447,
         91066,
         124513,
         1317299,
         132455,
         106433,
         132857,
         133334,
         386021,
         1455888,
         130468,
         0,
         0,
         0,
         0,
         0,
         0,
         0,
         0,
         0,
         0,
         0,
         0,
         0,
         14763,
         14763,
         14763,
         14763
        ]
       ],
       "datasetInfos": [],
       "dbfsResultPath": null,
       "isJsonSchema": true,
       "metadata": {},
       "overflow": false,
       "plotOptions": {
        "customPlotOptions": {},
        "displayType": "table",
        "pivotAggregation": null,
        "pivotColumns": null,
        "xColumns": null,
        "yColumns": null
       },
       "removedWidgets": [],
       "schema": [
        {
         "metadata": "{}",
         "name": "ID",
         "type": "\"long\""
        },
        {
         "metadata": "{}",
         "name": "Source",
         "type": "\"long\""
        },
        {
         "metadata": "{}",
         "name": "Severity",
         "type": "\"long\""
        },
        {
         "metadata": "{}",
         "name": "Start_Time",
         "type": "\"long\""
        },
        {
         "metadata": "{}",
         "name": "End_Time",
         "type": "\"long\""
        },
        {
         "metadata": "{}",
         "name": "Start_Lat",
         "type": "\"long\""
        },
        {
         "metadata": "{}",
         "name": "Start_Lng",
         "type": "\"long\""
        },
        {
         "metadata": "{}",
         "name": "End_Lat",
         "type": "\"long\""
        },
        {
         "metadata": "{}",
         "name": "End_Lng",
         "type": "\"long\""
        },
        {
         "metadata": "{}",
         "name": "Distance(mi)",
         "type": "\"long\""
        },
        {
         "metadata": "{}",
         "name": "Description",
         "type": "\"long\""
        },
        {
         "metadata": "{}",
         "name": "Street",
         "type": "\"long\""
        },
        {
         "metadata": "{}",
         "name": "City",
         "type": "\"long\""
        },
        {
         "metadata": "{}",
         "name": "County",
         "type": "\"long\""
        },
        {
         "metadata": "{}",
         "name": "State",
         "type": "\"long\""
        },
        {
         "metadata": "{}",
         "name": "Zipcode",
         "type": "\"long\""
        },
        {
         "metadata": "{}",
         "name": "Country",
         "type": "\"long\""
        },
        {
         "metadata": "{}",
         "name": "Timezone",
         "type": "\"long\""
        },
        {
         "metadata": "{}",
         "name": "Airport_Code",
         "type": "\"long\""
        },
        {
         "metadata": "{}",
         "name": "Weather_Timestamp",
         "type": "\"long\""
        },
        {
         "metadata": "{}",
         "name": "Temperature(F)",
         "type": "\"long\""
        },
        {
         "metadata": "{}",
         "name": "Wind_Chill(F)",
         "type": "\"long\""
        },
        {
         "metadata": "{}",
         "name": "Humidity(%)",
         "type": "\"long\""
        },
        {
         "metadata": "{}",
         "name": "Pressure(in)",
         "type": "\"long\""
        },
        {
         "metadata": "{}",
         "name": "Visibility(mi)",
         "type": "\"long\""
        },
        {
         "metadata": "{}",
         "name": "Wind_Direction",
         "type": "\"long\""
        },
        {
         "metadata": "{}",
         "name": "Wind_Speed(mph)",
         "type": "\"long\""
        },
        {
         "metadata": "{}",
         "name": "Precipitation(in)",
         "type": "\"long\""
        },
        {
         "metadata": "{}",
         "name": "Weather_Condition",
         "type": "\"long\""
        },
        {
         "metadata": "{}",
         "name": "Amenity",
         "type": "\"long\""
        },
        {
         "metadata": "{}",
         "name": "Bump",
         "type": "\"long\""
        },
        {
         "metadata": "{}",
         "name": "Crossing",
         "type": "\"long\""
        },
        {
         "metadata": "{}",
         "name": "Give_Way",
         "type": "\"long\""
        },
        {
         "metadata": "{}",
         "name": "Junction",
         "type": "\"long\""
        },
        {
         "metadata": "{}",
         "name": "No_Exit",
         "type": "\"long\""
        },
        {
         "metadata": "{}",
         "name": "Railway",
         "type": "\"long\""
        },
        {
         "metadata": "{}",
         "name": "Roundabout",
         "type": "\"long\""
        },
        {
         "metadata": "{}",
         "name": "Station",
         "type": "\"long\""
        },
        {
         "metadata": "{}",
         "name": "Stop",
         "type": "\"long\""
        },
        {
         "metadata": "{}",
         "name": "Traffic_Calming",
         "type": "\"long\""
        },
        {
         "metadata": "{}",
         "name": "Traffic_Signal",
         "type": "\"long\""
        },
        {
         "metadata": "{}",
         "name": "Turning_Loop",
         "type": "\"long\""
        },
        {
         "metadata": "{}",
         "name": "Sunrise_Sunset",
         "type": "\"long\""
        },
        {
         "metadata": "{}",
         "name": "Civil_Twilight",
         "type": "\"long\""
        },
        {
         "metadata": "{}",
         "name": "Nautical_Twilight",
         "type": "\"long\""
        },
        {
         "metadata": "{}",
         "name": "Astronomical_Twilight",
         "type": "\"long\""
        }
       ],
       "type": "table"
      }
     },
     "output_type": "display_data"
    }
   ],
   "source": [
    "%python\n",
    "from pyspark.sql import functions as F\n",
    "\n",
    "# Check for null values in each column of the DataFrame\n",
    "null_counts = bronze_df.select([\n",
    "    F.count(F.when(F.col(c).isNull(), c)).alias(c) \n",
    "    for c in bronze_df.columns\n",
    "])\n",
    "display(null_counts)\n"
   ]
  },
  {
   "cell_type": "code",
   "execution_count": 0,
   "metadata": {
    "application/vnd.databricks.v1+cell": {
     "cellMetadata": {
      "byteLimit": 2048000,
      "rowLimit": 10000
     },
     "inputWidgets": {},
     "nuid": "6a50068f-93e4-4599-bc1b-7e197b389e10",
     "showTitle": false,
     "tableResultSettingsMap": {},
     "title": ""
    }
   },
   "outputs": [
    {
     "output_type": "display_data",
     "data": {
      "text/html": [
       "<style scoped>\n",
       "  .table-result-container {\n",
       "    max-height: 300px;\n",
       "    overflow: auto;\n",
       "  }\n",
       "  table, th, td {\n",
       "    border: 1px solid black;\n",
       "    border-collapse: collapse;\n",
       "  }\n",
       "  th, td {\n",
       "    padding: 5px;\n",
       "  }\n",
       "  th {\n",
       "    text-align: left;\n",
       "  }\n",
       "</style><div class='table-result-container'><table class='table-result'><thead style='background-color: white'><tr><th>Columns</th></tr></thead><tbody><tr><td>ID</td></tr><tr><td>Source</td></tr><tr><td>Severity</td></tr><tr><td>Start_Time</td></tr><tr><td>End_Time</td></tr><tr><td>Start_Lat</td></tr><tr><td>Start_Lng</td></tr><tr><td>End_Lat</td></tr><tr><td>End_Lng</td></tr><tr><td>Distance(mi)</td></tr><tr><td>Description</td></tr><tr><td>Street</td></tr><tr><td>City</td></tr><tr><td>County</td></tr><tr><td>State</td></tr><tr><td>Zipcode</td></tr><tr><td>Country</td></tr><tr><td>Timezone</td></tr><tr><td>Airport_Code</td></tr><tr><td>Weather_Timestamp</td></tr><tr><td>Temperature(F)</td></tr><tr><td>Wind_Chill(F)</td></tr><tr><td>Humidity(%)</td></tr><tr><td>Pressure(in)</td></tr><tr><td>Visibility(mi)</td></tr><tr><td>Wind_Direction</td></tr><tr><td>Wind_Speed(mph)</td></tr><tr><td>Precipitation(in)</td></tr><tr><td>Weather_Condition</td></tr><tr><td>Amenity</td></tr><tr><td>Bump</td></tr><tr><td>Crossing</td></tr><tr><td>Give_Way</td></tr><tr><td>Junction</td></tr><tr><td>No_Exit</td></tr><tr><td>Railway</td></tr><tr><td>Roundabout</td></tr><tr><td>Station</td></tr><tr><td>Stop</td></tr><tr><td>Traffic_Calming</td></tr><tr><td>Traffic_Signal</td></tr><tr><td>Turning_Loop</td></tr><tr><td>Sunrise_Sunset</td></tr><tr><td>Civil_Twilight</td></tr><tr><td>Nautical_Twilight</td></tr><tr><td>Astronomical_Twilight</td></tr></tbody></table></div>"
      ]
     },
     "metadata": {
      "application/vnd.databricks.v1+output": {
       "addedWidgets": {},
       "aggData": [],
       "aggError": "",
       "aggOverflow": false,
       "aggSchema": [],
       "aggSeriesLimitReached": false,
       "aggType": "",
       "arguments": {},
       "columnCustomDisplayInfos": {},
       "data": [
        [
         "ID"
        ],
        [
         "Source"
        ],
        [
         "Severity"
        ],
        [
         "Start_Time"
        ],
        [
         "End_Time"
        ],
        [
         "Start_Lat"
        ],
        [
         "Start_Lng"
        ],
        [
         "End_Lat"
        ],
        [
         "End_Lng"
        ],
        [
         "Distance(mi)"
        ],
        [
         "Description"
        ],
        [
         "Street"
        ],
        [
         "City"
        ],
        [
         "County"
        ],
        [
         "State"
        ],
        [
         "Zipcode"
        ],
        [
         "Country"
        ],
        [
         "Timezone"
        ],
        [
         "Airport_Code"
        ],
        [
         "Weather_Timestamp"
        ],
        [
         "Temperature(F)"
        ],
        [
         "Wind_Chill(F)"
        ],
        [
         "Humidity(%)"
        ],
        [
         "Pressure(in)"
        ],
        [
         "Visibility(mi)"
        ],
        [
         "Wind_Direction"
        ],
        [
         "Wind_Speed(mph)"
        ],
        [
         "Precipitation(in)"
        ],
        [
         "Weather_Condition"
        ],
        [
         "Amenity"
        ],
        [
         "Bump"
        ],
        [
         "Crossing"
        ],
        [
         "Give_Way"
        ],
        [
         "Junction"
        ],
        [
         "No_Exit"
        ],
        [
         "Railway"
        ],
        [
         "Roundabout"
        ],
        [
         "Station"
        ],
        [
         "Stop"
        ],
        [
         "Traffic_Calming"
        ],
        [
         "Traffic_Signal"
        ],
        [
         "Turning_Loop"
        ],
        [
         "Sunrise_Sunset"
        ],
        [
         "Civil_Twilight"
        ],
        [
         "Nautical_Twilight"
        ],
        [
         "Astronomical_Twilight"
        ]
       ],
       "datasetInfos": [],
       "dbfsResultPath": null,
       "isJsonSchema": true,
       "metadata": {},
       "overflow": false,
       "plotOptions": {
        "customPlotOptions": {},
        "displayType": "table",
        "pivotAggregation": null,
        "pivotColumns": null,
        "xColumns": null,
        "yColumns": null
       },
       "removedWidgets": [],
       "schema": [
        {
         "metadata": "{}",
         "name": "Columns",
         "type": "\"string\""
        }
       ],
       "type": "table"
      }
     },
     "output_type": "display_data"
    }
   ],
   "source": [
    "%python\n",
    "columns_list = bronze_df.columns\n",
    "columns_df = spark.createDataFrame([(col,) for col in columns_list], [\"Columns\"])\n",
    "display(columns_df)"
   ]
  },
  {
   "cell_type": "code",
   "execution_count": 0,
   "metadata": {
    "application/vnd.databricks.v1+cell": {
     "cellMetadata": {
      "byteLimit": 2048000,
      "rowLimit": 10000
     },
     "inputWidgets": {},
     "nuid": "3ece2b94-a260-4616-9324-29e0b8320244",
     "showTitle": false,
     "tableResultSettingsMap": {
      "0": {
       "dataGridStateBlob": "{\"version\":1,\"tableState\":{\"columnPinning\":{\"left\":[\"#row_number#\"],\"right\":[]},\"columnSizing\":{\"Weather_Timestamp\":327,\"Start_Time\":248},\"columnVisibility\":{}},\"settings\":{\"columns\":{}},\"syncTimestamp\":1753318557043}",
       "filterBlob": null,
       "queryPlanFiltersBlob": null,
       "tableResultIndex": 0
      }
     },
     "title": ""
    }
   },
   "outputs": [
    {
     "output_type": "display_data",
     "data": {
      "text/html": [
       "<style scoped>\n",
       "  .table-result-container {\n",
       "    max-height: 300px;\n",
       "    overflow: auto;\n",
       "  }\n",
       "  table, th, td {\n",
       "    border: 1px solid black;\n",
       "    border-collapse: collapse;\n",
       "  }\n",
       "  th, td {\n",
       "    padding: 5px;\n",
       "  }\n",
       "  th {\n",
       "    text-align: left;\n",
       "  }\n",
       "</style><div class='table-result-container'><table class='table-result'><thead style='background-color: white'><tr><th>ID</th><th>Severity</th><th>Start_Time</th><th>End_Time</th><th>Start_Lat</th><th>Start_Lng</th><th>Distance(mi)</th><th>Description</th><th>Street</th><th>City</th><th>County</th><th>State</th><th>Country</th><th>Timezone</th><th>Airport_Code</th><th>Weather_Timestamp</th><th>Temperature(F)</th><th>Wind_Chill(F)</th><th>Humidity(%)</th><th>Pressure(in)</th><th>Visibility(mi)</th><th>Wind_Direction</th><th>Wind_Speed(mph)</th><th>Precipitation(in)</th><th>Weather_Condition</th><th>Amenity</th><th>Bump</th><th>Crossing</th><th>Give_Way</th><th>Junction</th><th>No_Exit</th><th>Railway</th><th>Roundabout</th><th>Station</th><th>Stop</th><th>Traffic_Calming</th><th>Traffic_Signal</th><th>Turning_Loop</th><th>Sunrise_Sunset</th></tr></thead><tbody><tr><td>A-1</td><td>3</td><td>2016-02-08T05:46:00Z</td><td>2016-02-08T11:00:00Z</td><td>39.865147</td><td>-84.058723</td><td>0.01</td><td>Right lane blocked due to accident on I-70 Eastbound at Exit 41 OH-235 State Route 4.</td><td>I-70 E</td><td>Dayton</td><td>Montgomery</td><td>OH</td><td>US</td><td>US/Eastern</td><td>KFFO</td><td>2016-02-08T05:58:00Z</td><td>36.9</td><td>null</td><td>91.0</td><td>29.68</td><td>10.0</td><td>Calm</td><td>null</td><td>0.02</td><td>Light Rain</td><td>false</td><td>false</td><td>false</td><td>false</td><td>false</td><td>false</td><td>false</td><td>false</td><td>false</td><td>false</td><td>false</td><td>false</td><td>false</td><td>Night</td></tr><tr><td>A-2</td><td>2</td><td>2016-02-08T06:07:59Z</td><td>2016-02-08T06:37:59Z</td><td>39.92805900000001</td><td>-82.831184</td><td>0.01</td><td>Accident on Brice Rd at Tussing Rd. Expect delays.</td><td>Brice Rd</td><td>Reynoldsburg</td><td>Franklin</td><td>OH</td><td>US</td><td>US/Eastern</td><td>KCMH</td><td>2016-02-08T05:51:00Z</td><td>37.9</td><td>null</td><td>100.0</td><td>29.65</td><td>10.0</td><td>Calm</td><td>null</td><td>0.0</td><td>Light Rain</td><td>false</td><td>false</td><td>false</td><td>false</td><td>false</td><td>false</td><td>false</td><td>false</td><td>false</td><td>false</td><td>false</td><td>false</td><td>false</td><td>Night</td></tr><tr><td>A-3</td><td>2</td><td>2016-02-08T06:49:27Z</td><td>2016-02-08T07:19:27Z</td><td>39.063148</td><td>-84.032608</td><td>0.01</td><td>Accident on OH-32 State Route 32 Westbound at Dela Palma Rd. Expect delays.</td><td>State Route 32</td><td>Williamsburg</td><td>Clermont</td><td>OH</td><td>US</td><td>US/Eastern</td><td>KI69</td><td>2016-02-08T06:56:00Z</td><td>36.0</td><td>33.3</td><td>100.0</td><td>29.67</td><td>10.0</td><td>SW</td><td>3.5</td><td>null</td><td>Overcast</td><td>false</td><td>false</td><td>false</td><td>false</td><td>false</td><td>false</td><td>false</td><td>false</td><td>false</td><td>false</td><td>false</td><td>true</td><td>false</td><td>Night</td></tr><tr><td>A-4</td><td>3</td><td>2016-02-08T07:23:34Z</td><td>2016-02-08T07:53:34Z</td><td>39.747753</td><td>-84.20558199999998</td><td>0.01</td><td>Accident on I-75 Southbound at Exits 52 52B US-35. Expect delays.</td><td>I-75 S</td><td>Dayton</td><td>Montgomery</td><td>OH</td><td>US</td><td>US/Eastern</td><td>KDAY</td><td>2016-02-08T07:38:00Z</td><td>35.1</td><td>31.0</td><td>96.0</td><td>29.64</td><td>9.0</td><td>SW</td><td>4.6</td><td>null</td><td>Mostly Cloudy</td><td>false</td><td>false</td><td>false</td><td>false</td><td>false</td><td>false</td><td>false</td><td>false</td><td>false</td><td>false</td><td>false</td><td>false</td><td>false</td><td>Night</td></tr><tr><td>A-5</td><td>2</td><td>2016-02-08T07:39:07Z</td><td>2016-02-08T08:09:07Z</td><td>39.627781</td><td>-84.188354</td><td>0.01</td><td>Accident on McEwen Rd at OH-725 Miamisburg Centerville Rd. Expect delays.</td><td>Miamisburg Centerville Rd</td><td>Dayton</td><td>Montgomery</td><td>OH</td><td>US</td><td>US/Eastern</td><td>KMGY</td><td>2016-02-08T07:53:00Z</td><td>36.0</td><td>33.3</td><td>89.0</td><td>29.65</td><td>6.0</td><td>SW</td><td>3.5</td><td>null</td><td>Mostly Cloudy</td><td>false</td><td>false</td><td>false</td><td>false</td><td>false</td><td>false</td><td>false</td><td>false</td><td>false</td><td>false</td><td>false</td><td>true</td><td>false</td><td>Day</td></tr></tbody></table></div>"
      ]
     },
     "metadata": {
      "application/vnd.databricks.v1+output": {
       "addedWidgets": {},
       "aggData": [],
       "aggError": "",
       "aggOverflow": false,
       "aggSchema": [],
       "aggSeriesLimitReached": false,
       "aggType": "",
       "arguments": {},
       "columnCustomDisplayInfos": {},
       "data": [
        [
         "A-1",
         3,
         "2016-02-08T05:46:00Z",
         "2016-02-08T11:00:00Z",
         39.865147,
         -84.058723,
         0.01,
         "Right lane blocked due to accident on I-70 Eastbound at Exit 41 OH-235 State Route 4.",
         "I-70 E",
         "Dayton",
         "Montgomery",
         "OH",
         "US",
         "US/Eastern",
         "KFFO",
         "2016-02-08T05:58:00Z",
         36.9,
         null,
         91.0,
         29.68,
         10.0,
         "Calm",
         null,
         0.02,
         "Light Rain",
         false,
         false,
         false,
         false,
         false,
         false,
         false,
         false,
         false,
         false,
         false,
         false,
         false,
         "Night"
        ],
        [
         "A-2",
         2,
         "2016-02-08T06:07:59Z",
         "2016-02-08T06:37:59Z",
         39.92805900000001,
         -82.831184,
         0.01,
         "Accident on Brice Rd at Tussing Rd. Expect delays.",
         "Brice Rd",
         "Reynoldsburg",
         "Franklin",
         "OH",
         "US",
         "US/Eastern",
         "KCMH",
         "2016-02-08T05:51:00Z",
         37.9,
         null,
         100.0,
         29.65,
         10.0,
         "Calm",
         null,
         0.0,
         "Light Rain",
         false,
         false,
         false,
         false,
         false,
         false,
         false,
         false,
         false,
         false,
         false,
         false,
         false,
         "Night"
        ],
        [
         "A-3",
         2,
         "2016-02-08T06:49:27Z",
         "2016-02-08T07:19:27Z",
         39.063148,
         -84.032608,
         0.01,
         "Accident on OH-32 State Route 32 Westbound at Dela Palma Rd. Expect delays.",
         "State Route 32",
         "Williamsburg",
         "Clermont",
         "OH",
         "US",
         "US/Eastern",
         "KI69",
         "2016-02-08T06:56:00Z",
         36.0,
         33.3,
         100.0,
         29.67,
         10.0,
         "SW",
         3.5,
         null,
         "Overcast",
         false,
         false,
         false,
         false,
         false,
         false,
         false,
         false,
         false,
         false,
         false,
         true,
         false,
         "Night"
        ],
        [
         "A-4",
         3,
         "2016-02-08T07:23:34Z",
         "2016-02-08T07:53:34Z",
         39.747753,
         -84.20558199999998,
         0.01,
         "Accident on I-75 Southbound at Exits 52 52B US-35. Expect delays.",
         "I-75 S",
         "Dayton",
         "Montgomery",
         "OH",
         "US",
         "US/Eastern",
         "KDAY",
         "2016-02-08T07:38:00Z",
         35.1,
         31.0,
         96.0,
         29.64,
         9.0,
         "SW",
         4.6,
         null,
         "Mostly Cloudy",
         false,
         false,
         false,
         false,
         false,
         false,
         false,
         false,
         false,
         false,
         false,
         false,
         false,
         "Night"
        ],
        [
         "A-5",
         2,
         "2016-02-08T07:39:07Z",
         "2016-02-08T08:09:07Z",
         39.627781,
         -84.188354,
         0.01,
         "Accident on McEwen Rd at OH-725 Miamisburg Centerville Rd. Expect delays.",
         "Miamisburg Centerville Rd",
         "Dayton",
         "Montgomery",
         "OH",
         "US",
         "US/Eastern",
         "KMGY",
         "2016-02-08T07:53:00Z",
         36.0,
         33.3,
         89.0,
         29.65,
         6.0,
         "SW",
         3.5,
         null,
         "Mostly Cloudy",
         false,
         false,
         false,
         false,
         false,
         false,
         false,
         false,
         false,
         false,
         false,
         true,
         false,
         "Day"
        ]
       ],
       "datasetInfos": [],
       "dbfsResultPath": null,
       "isJsonSchema": true,
       "metadata": {},
       "overflow": false,
       "plotOptions": {
        "customPlotOptions": {},
        "displayType": "table",
        "pivotAggregation": null,
        "pivotColumns": null,
        "xColumns": null,
        "yColumns": null
       },
       "removedWidgets": [],
       "schema": [
        {
         "metadata": "{}",
         "name": "ID",
         "type": "\"string\""
        },
        {
         "metadata": "{}",
         "name": "Severity",
         "type": "\"integer\""
        },
        {
         "metadata": "{}",
         "name": "Start_Time",
         "type": "\"timestamp\""
        },
        {
         "metadata": "{}",
         "name": "End_Time",
         "type": "\"timestamp\""
        },
        {
         "metadata": "{}",
         "name": "Start_Lat",
         "type": "\"double\""
        },
        {
         "metadata": "{}",
         "name": "Start_Lng",
         "type": "\"double\""
        },
        {
         "metadata": "{}",
         "name": "Distance(mi)",
         "type": "\"double\""
        },
        {
         "metadata": "{}",
         "name": "Description",
         "type": "\"string\""
        },
        {
         "metadata": "{}",
         "name": "Street",
         "type": "\"string\""
        },
        {
         "metadata": "{}",
         "name": "City",
         "type": "\"string\""
        },
        {
         "metadata": "{}",
         "name": "County",
         "type": "\"string\""
        },
        {
         "metadata": "{}",
         "name": "State",
         "type": "\"string\""
        },
        {
         "metadata": "{}",
         "name": "Country",
         "type": "\"string\""
        },
        {
         "metadata": "{}",
         "name": "Timezone",
         "type": "\"string\""
        },
        {
         "metadata": "{}",
         "name": "Airport_Code",
         "type": "\"string\""
        },
        {
         "metadata": "{}",
         "name": "Weather_Timestamp",
         "type": "\"timestamp\""
        },
        {
         "metadata": "{}",
         "name": "Temperature(F)",
         "type": "\"double\""
        },
        {
         "metadata": "{}",
         "name": "Wind_Chill(F)",
         "type": "\"double\""
        },
        {
         "metadata": "{}",
         "name": "Humidity(%)",
         "type": "\"double\""
        },
        {
         "metadata": "{}",
         "name": "Pressure(in)",
         "type": "\"double\""
        },
        {
         "metadata": "{}",
         "name": "Visibility(mi)",
         "type": "\"double\""
        },
        {
         "metadata": "{}",
         "name": "Wind_Direction",
         "type": "\"string\""
        },
        {
         "metadata": "{}",
         "name": "Wind_Speed(mph)",
         "type": "\"double\""
        },
        {
         "metadata": "{}",
         "name": "Precipitation(in)",
         "type": "\"double\""
        },
        {
         "metadata": "{}",
         "name": "Weather_Condition",
         "type": "\"string\""
        },
        {
         "metadata": "{}",
         "name": "Amenity",
         "type": "\"boolean\""
        },
        {
         "metadata": "{}",
         "name": "Bump",
         "type": "\"boolean\""
        },
        {
         "metadata": "{}",
         "name": "Crossing",
         "type": "\"boolean\""
        },
        {
         "metadata": "{}",
         "name": "Give_Way",
         "type": "\"boolean\""
        },
        {
         "metadata": "{}",
         "name": "Junction",
         "type": "\"boolean\""
        },
        {
         "metadata": "{}",
         "name": "No_Exit",
         "type": "\"boolean\""
        },
        {
         "metadata": "{}",
         "name": "Railway",
         "type": "\"boolean\""
        },
        {
         "metadata": "{}",
         "name": "Roundabout",
         "type": "\"boolean\""
        },
        {
         "metadata": "{}",
         "name": "Station",
         "type": "\"boolean\""
        },
        {
         "metadata": "{}",
         "name": "Stop",
         "type": "\"boolean\""
        },
        {
         "metadata": "{}",
         "name": "Traffic_Calming",
         "type": "\"boolean\""
        },
        {
         "metadata": "{}",
         "name": "Traffic_Signal",
         "type": "\"boolean\""
        },
        {
         "metadata": "{}",
         "name": "Turning_Loop",
         "type": "\"boolean\""
        },
        {
         "metadata": "{}",
         "name": "Sunrise_Sunset",
         "type": "\"string\""
        }
       ],
       "type": "table"
      }
     },
     "output_type": "display_data"
    }
   ],
   "source": [
    "%python\n",
    "# Calculate the threshold for dropping columns\n",
    "threshold = 0.5 * bronze_df.count()\n",
    "\n",
    "# Identify columns to drop based on null values\n",
    "columns_to_drop = [c for c in bronze_df.columns if bronze_df.filter(F.col(c).isNull()).count() > threshold]\n",
    "\n",
    "# Add any additional irrelevant columns to drop\n",
    "columns_to_drop.extend(['Source', 'End_Lat', 'End_Lng', 'Zipcode', 'Civil_Twilight', 'Nautical_Twilight', 'Astronomical_Twilight' ])\n",
    "\n",
    "# Drop the identified columns\n",
    "cleaned_df = bronze_df.drop(*columns_to_drop)\n",
    "\n",
    "# Display the cleaned DataFrame\n",
    "display(cleaned_df.limit(5))"
   ]
  },
  {
   "cell_type": "code",
   "execution_count": 0,
   "metadata": {
    "application/vnd.databricks.v1+cell": {
     "cellMetadata": {
      "byteLimit": 2048000,
      "rowLimit": 10000
     },
     "inputWidgets": {},
     "nuid": "6a751c02-5674-46ee-9b05-ec02b21c24ff",
     "showTitle": false,
     "tableResultSettingsMap": {
      "0": {
       "dataGridStateBlob": "{\"version\":1,\"tableState\":{\"columnPinning\":{\"left\":[\"#row_number#\"],\"right\":[]},\"columnSizing\":{\"Start_Time\":253},\"columnVisibility\":{}},\"settings\":{\"columns\":{}},\"syncTimestamp\":1753318783984}",
       "filterBlob": null,
       "queryPlanFiltersBlob": null,
       "tableResultIndex": 0
      }
     },
     "title": ""
    }
   },
   "outputs": [
    {
     "output_type": "display_data",
     "data": {
      "text/html": [
       "<style scoped>\n",
       "  .table-result-container {\n",
       "    max-height: 300px;\n",
       "    overflow: auto;\n",
       "  }\n",
       "  table, th, td {\n",
       "    border: 1px solid black;\n",
       "    border-collapse: collapse;\n",
       "  }\n",
       "  th, td {\n",
       "    padding: 5px;\n",
       "  }\n",
       "  th {\n",
       "    text-align: left;\n",
       "  }\n",
       "</style><div class='table-result-container'><table class='table-result'><thead style='background-color: white'><tr><th>ID</th><th>Source</th><th>Severity</th><th>Start_Time</th><th>End_Time</th><th>Start_Lat</th><th>Start_Lng</th><th>End_Lat</th><th>End_Lng</th><th>Distance(mi)</th><th>Description</th><th>Street</th><th>City</th><th>County</th><th>State</th><th>Zipcode</th><th>Country</th><th>Timezone</th><th>Airport_Code</th><th>Weather_Timestamp</th><th>Temperature(F)</th><th>Wind_Chill(F)</th><th>Humidity(%)</th><th>Pressure(in)</th><th>Visibility(mi)</th><th>Wind_Direction</th><th>Wind_Speed(mph)</th><th>Precipitation(in)</th><th>Weather_Condition</th><th>Amenity</th><th>Bump</th><th>Crossing</th><th>Give_Way</th><th>Junction</th><th>No_Exit</th><th>Railway</th><th>Roundabout</th><th>Station</th><th>Stop</th><th>Traffic_Calming</th><th>Traffic_Signal</th><th>Turning_Loop</th><th>Sunrise_Sunset</th><th>Civil_Twilight</th><th>Nautical_Twilight</th><th>Astronomical_Twilight</th></tr></thead><tbody><tr><td>A-1</td><td>Source2</td><td>3</td><td>2016-02-08T05:46:00Z</td><td>2016-02-08T11:00:00Z</td><td>39.865147</td><td>-84.058723</td><td>null</td><td>null</td><td>0.01</td><td>Right lane blocked due to accident on I-70 Eastbound at Exit 41 OH-235 State Route 4.</td><td>I-70 E</td><td>Dayton</td><td>Montgomery</td><td>OH</td><td>45424</td><td>US</td><td>US/Eastern</td><td>KFFO</td><td>2016-02-08T05:58:00Z</td><td>36.9</td><td>null</td><td>91.0</td><td>29.68</td><td>10.0</td><td>Calm</td><td>null</td><td>0.02</td><td>Light Rain</td><td>false</td><td>false</td><td>false</td><td>false</td><td>false</td><td>false</td><td>false</td><td>false</td><td>false</td><td>false</td><td>false</td><td>false</td><td>false</td><td>Night</td><td>Night</td><td>Night</td><td>Night</td></tr><tr><td>A-2</td><td>Source2</td><td>2</td><td>2016-02-08T06:07:59Z</td><td>2016-02-08T06:37:59Z</td><td>39.92805900000001</td><td>-82.831184</td><td>null</td><td>null</td><td>0.01</td><td>Accident on Brice Rd at Tussing Rd. Expect delays.</td><td>Brice Rd</td><td>Reynoldsburg</td><td>Franklin</td><td>OH</td><td>43068-3402</td><td>US</td><td>US/Eastern</td><td>KCMH</td><td>2016-02-08T05:51:00Z</td><td>37.9</td><td>null</td><td>100.0</td><td>29.65</td><td>10.0</td><td>Calm</td><td>null</td><td>0.0</td><td>Light Rain</td><td>false</td><td>false</td><td>false</td><td>false</td><td>false</td><td>false</td><td>false</td><td>false</td><td>false</td><td>false</td><td>false</td><td>false</td><td>false</td><td>Night</td><td>Night</td><td>Night</td><td>Day</td></tr><tr><td>A-3</td><td>Source2</td><td>2</td><td>2016-02-08T06:49:27Z</td><td>2016-02-08T07:19:27Z</td><td>39.063148</td><td>-84.032608</td><td>null</td><td>null</td><td>0.01</td><td>Accident on OH-32 State Route 32 Westbound at Dela Palma Rd. Expect delays.</td><td>State Route 32</td><td>Williamsburg</td><td>Clermont</td><td>OH</td><td>45176</td><td>US</td><td>US/Eastern</td><td>KI69</td><td>2016-02-08T06:56:00Z</td><td>36.0</td><td>33.3</td><td>100.0</td><td>29.67</td><td>10.0</td><td>SW</td><td>3.5</td><td>null</td><td>Overcast</td><td>false</td><td>false</td><td>false</td><td>false</td><td>false</td><td>false</td><td>false</td><td>false</td><td>false</td><td>false</td><td>false</td><td>true</td><td>false</td><td>Night</td><td>Night</td><td>Day</td><td>Day</td></tr><tr><td>A-4</td><td>Source2</td><td>3</td><td>2016-02-08T07:23:34Z</td><td>2016-02-08T07:53:34Z</td><td>39.747753</td><td>-84.20558199999998</td><td>null</td><td>null</td><td>0.01</td><td>Accident on I-75 Southbound at Exits 52 52B US-35. Expect delays.</td><td>I-75 S</td><td>Dayton</td><td>Montgomery</td><td>OH</td><td>45417</td><td>US</td><td>US/Eastern</td><td>KDAY</td><td>2016-02-08T07:38:00Z</td><td>35.1</td><td>31.0</td><td>96.0</td><td>29.64</td><td>9.0</td><td>SW</td><td>4.6</td><td>null</td><td>Mostly Cloudy</td><td>false</td><td>false</td><td>false</td><td>false</td><td>false</td><td>false</td><td>false</td><td>false</td><td>false</td><td>false</td><td>false</td><td>false</td><td>false</td><td>Night</td><td>Day</td><td>Day</td><td>Day</td></tr><tr><td>A-5</td><td>Source2</td><td>2</td><td>2016-02-08T07:39:07Z</td><td>2016-02-08T08:09:07Z</td><td>39.627781</td><td>-84.188354</td><td>null</td><td>null</td><td>0.01</td><td>Accident on McEwen Rd at OH-725 Miamisburg Centerville Rd. Expect delays.</td><td>Miamisburg Centerville Rd</td><td>Dayton</td><td>Montgomery</td><td>OH</td><td>45459</td><td>US</td><td>US/Eastern</td><td>KMGY</td><td>2016-02-08T07:53:00Z</td><td>36.0</td><td>33.3</td><td>89.0</td><td>29.65</td><td>6.0</td><td>SW</td><td>3.5</td><td>null</td><td>Mostly Cloudy</td><td>false</td><td>false</td><td>false</td><td>false</td><td>false</td><td>false</td><td>false</td><td>false</td><td>false</td><td>false</td><td>false</td><td>true</td><td>false</td><td>Day</td><td>Day</td><td>Day</td><td>Day</td></tr></tbody></table></div>"
      ]
     },
     "metadata": {
      "application/vnd.databricks.v1+output": {
       "addedWidgets": {},
       "aggData": [],
       "aggError": "",
       "aggOverflow": false,
       "aggSchema": [],
       "aggSeriesLimitReached": false,
       "aggType": "",
       "arguments": {},
       "columnCustomDisplayInfos": {},
       "data": [
        [
         "A-1",
         "Source2",
         3,
         "2016-02-08T05:46:00Z",
         "2016-02-08T11:00:00Z",
         39.865147,
         -84.058723,
         null,
         null,
         0.01,
         "Right lane blocked due to accident on I-70 Eastbound at Exit 41 OH-235 State Route 4.",
         "I-70 E",
         "Dayton",
         "Montgomery",
         "OH",
         "45424",
         "US",
         "US/Eastern",
         "KFFO",
         "2016-02-08T05:58:00Z",
         36.9,
         null,
         91.0,
         29.68,
         10.0,
         "Calm",
         null,
         0.02,
         "Light Rain",
         false,
         false,
         false,
         false,
         false,
         false,
         false,
         false,
         false,
         false,
         false,
         false,
         false,
         "Night",
         "Night",
         "Night",
         "Night"
        ],
        [
         "A-2",
         "Source2",
         2,
         "2016-02-08T06:07:59Z",
         "2016-02-08T06:37:59Z",
         39.92805900000001,
         -82.831184,
         null,
         null,
         0.01,
         "Accident on Brice Rd at Tussing Rd. Expect delays.",
         "Brice Rd",
         "Reynoldsburg",
         "Franklin",
         "OH",
         "43068-3402",
         "US",
         "US/Eastern",
         "KCMH",
         "2016-02-08T05:51:00Z",
         37.9,
         null,
         100.0,
         29.65,
         10.0,
         "Calm",
         null,
         0.0,
         "Light Rain",
         false,
         false,
         false,
         false,
         false,
         false,
         false,
         false,
         false,
         false,
         false,
         false,
         false,
         "Night",
         "Night",
         "Night",
         "Day"
        ],
        [
         "A-3",
         "Source2",
         2,
         "2016-02-08T06:49:27Z",
         "2016-02-08T07:19:27Z",
         39.063148,
         -84.032608,
         null,
         null,
         0.01,
         "Accident on OH-32 State Route 32 Westbound at Dela Palma Rd. Expect delays.",
         "State Route 32",
         "Williamsburg",
         "Clermont",
         "OH",
         "45176",
         "US",
         "US/Eastern",
         "KI69",
         "2016-02-08T06:56:00Z",
         36.0,
         33.3,
         100.0,
         29.67,
         10.0,
         "SW",
         3.5,
         null,
         "Overcast",
         false,
         false,
         false,
         false,
         false,
         false,
         false,
         false,
         false,
         false,
         false,
         true,
         false,
         "Night",
         "Night",
         "Day",
         "Day"
        ],
        [
         "A-4",
         "Source2",
         3,
         "2016-02-08T07:23:34Z",
         "2016-02-08T07:53:34Z",
         39.747753,
         -84.20558199999998,
         null,
         null,
         0.01,
         "Accident on I-75 Southbound at Exits 52 52B US-35. Expect delays.",
         "I-75 S",
         "Dayton",
         "Montgomery",
         "OH",
         "45417",
         "US",
         "US/Eastern",
         "KDAY",
         "2016-02-08T07:38:00Z",
         35.1,
         31.0,
         96.0,
         29.64,
         9.0,
         "SW",
         4.6,
         null,
         "Mostly Cloudy",
         false,
         false,
         false,
         false,
         false,
         false,
         false,
         false,
         false,
         false,
         false,
         false,
         false,
         "Night",
         "Day",
         "Day",
         "Day"
        ],
        [
         "A-5",
         "Source2",
         2,
         "2016-02-08T07:39:07Z",
         "2016-02-08T08:09:07Z",
         39.627781,
         -84.188354,
         null,
         null,
         0.01,
         "Accident on McEwen Rd at OH-725 Miamisburg Centerville Rd. Expect delays.",
         "Miamisburg Centerville Rd",
         "Dayton",
         "Montgomery",
         "OH",
         "45459",
         "US",
         "US/Eastern",
         "KMGY",
         "2016-02-08T07:53:00Z",
         36.0,
         33.3,
         89.0,
         29.65,
         6.0,
         "SW",
         3.5,
         null,
         "Mostly Cloudy",
         false,
         false,
         false,
         false,
         false,
         false,
         false,
         false,
         false,
         false,
         false,
         true,
         false,
         "Day",
         "Day",
         "Day",
         "Day"
        ]
       ],
       "datasetInfos": [],
       "dbfsResultPath": null,
       "isJsonSchema": true,
       "metadata": {},
       "overflow": false,
       "plotOptions": {
        "customPlotOptions": {},
        "displayType": "table",
        "pivotAggregation": null,
        "pivotColumns": null,
        "xColumns": null,
        "yColumns": null
       },
       "removedWidgets": [],
       "schema": [
        {
         "metadata": "{}",
         "name": "ID",
         "type": "\"string\""
        },
        {
         "metadata": "{}",
         "name": "Source",
         "type": "\"string\""
        },
        {
         "metadata": "{}",
         "name": "Severity",
         "type": "\"integer\""
        },
        {
         "metadata": "{}",
         "name": "Start_Time",
         "type": "\"timestamp\""
        },
        {
         "metadata": "{}",
         "name": "End_Time",
         "type": "\"timestamp\""
        },
        {
         "metadata": "{}",
         "name": "Start_Lat",
         "type": "\"double\""
        },
        {
         "metadata": "{}",
         "name": "Start_Lng",
         "type": "\"double\""
        },
        {
         "metadata": "{}",
         "name": "End_Lat",
         "type": "\"double\""
        },
        {
         "metadata": "{}",
         "name": "End_Lng",
         "type": "\"double\""
        },
        {
         "metadata": "{}",
         "name": "Distance(mi)",
         "type": "\"double\""
        },
        {
         "metadata": "{}",
         "name": "Description",
         "type": "\"string\""
        },
        {
         "metadata": "{}",
         "name": "Street",
         "type": "\"string\""
        },
        {
         "metadata": "{}",
         "name": "City",
         "type": "\"string\""
        },
        {
         "metadata": "{}",
         "name": "County",
         "type": "\"string\""
        },
        {
         "metadata": "{}",
         "name": "State",
         "type": "\"string\""
        },
        {
         "metadata": "{}",
         "name": "Zipcode",
         "type": "\"string\""
        },
        {
         "metadata": "{}",
         "name": "Country",
         "type": "\"string\""
        },
        {
         "metadata": "{}",
         "name": "Timezone",
         "type": "\"string\""
        },
        {
         "metadata": "{}",
         "name": "Airport_Code",
         "type": "\"string\""
        },
        {
         "metadata": "{}",
         "name": "Weather_Timestamp",
         "type": "\"timestamp\""
        },
        {
         "metadata": "{}",
         "name": "Temperature(F)",
         "type": "\"double\""
        },
        {
         "metadata": "{}",
         "name": "Wind_Chill(F)",
         "type": "\"double\""
        },
        {
         "metadata": "{}",
         "name": "Humidity(%)",
         "type": "\"double\""
        },
        {
         "metadata": "{}",
         "name": "Pressure(in)",
         "type": "\"double\""
        },
        {
         "metadata": "{}",
         "name": "Visibility(mi)",
         "type": "\"double\""
        },
        {
         "metadata": "{}",
         "name": "Wind_Direction",
         "type": "\"string\""
        },
        {
         "metadata": "{}",
         "name": "Wind_Speed(mph)",
         "type": "\"double\""
        },
        {
         "metadata": "{}",
         "name": "Precipitation(in)",
         "type": "\"double\""
        },
        {
         "metadata": "{}",
         "name": "Weather_Condition",
         "type": "\"string\""
        },
        {
         "metadata": "{}",
         "name": "Amenity",
         "type": "\"boolean\""
        },
        {
         "metadata": "{}",
         "name": "Bump",
         "type": "\"boolean\""
        },
        {
         "metadata": "{}",
         "name": "Crossing",
         "type": "\"boolean\""
        },
        {
         "metadata": "{}",
         "name": "Give_Way",
         "type": "\"boolean\""
        },
        {
         "metadata": "{}",
         "name": "Junction",
         "type": "\"boolean\""
        },
        {
         "metadata": "{}",
         "name": "No_Exit",
         "type": "\"boolean\""
        },
        {
         "metadata": "{}",
         "name": "Railway",
         "type": "\"boolean\""
        },
        {
         "metadata": "{}",
         "name": "Roundabout",
         "type": "\"boolean\""
        },
        {
         "metadata": "{}",
         "name": "Station",
         "type": "\"boolean\""
        },
        {
         "metadata": "{}",
         "name": "Stop",
         "type": "\"boolean\""
        },
        {
         "metadata": "{}",
         "name": "Traffic_Calming",
         "type": "\"boolean\""
        },
        {
         "metadata": "{}",
         "name": "Traffic_Signal",
         "type": "\"boolean\""
        },
        {
         "metadata": "{}",
         "name": "Turning_Loop",
         "type": "\"boolean\""
        },
        {
         "metadata": "{}",
         "name": "Sunrise_Sunset",
         "type": "\"string\""
        },
        {
         "metadata": "{}",
         "name": "Civil_Twilight",
         "type": "\"string\""
        },
        {
         "metadata": "{}",
         "name": "Nautical_Twilight",
         "type": "\"string\""
        },
        {
         "metadata": "{}",
         "name": "Astronomical_Twilight",
         "type": "\"string\""
        }
       ],
       "type": "table"
      }
     },
     "output_type": "display_data"
    }
   ],
   "source": [
    "%python\n",
    "from pyspark.sql import functions as F\n",
    "\n",
    "# Convert the timestamp columns to proper timestamp format\n",
    "bronze_df = bronze_df.withColumn(\"Start_Time\", F.to_timestamp(\"Start_Time\")) \\\n",
    "                     .withColumn(\"End_Time\", F.to_timestamp(\"End_Time\")) \\\n",
    "                     .withColumn(\"Weather_Timestamp\", F.to_timestamp(\"Weather_Timestamp\"))\n",
    "\n",
    "# Display the DataFrame to verify the changes\n",
    "display(bronze_df.limit(5))"
   ]
  },
  {
   "cell_type": "code",
   "execution_count": 0,
   "metadata": {
    "application/vnd.databricks.v1+cell": {
     "cellMetadata": {
      "byteLimit": 2048000,
      "rowLimit": 10000
     },
     "inputWidgets": {},
     "nuid": "b47105cf-bdf3-4d6e-ac2e-5b92876bf8a0",
     "showTitle": false,
     "tableResultSettingsMap": {},
     "title": ""
    }
   },
   "outputs": [],
   "source": [
    "# Rename the column to remove invalid characters\n",
    "cleaned_df = cleaned_df.withColumnRenamed(\"Distance(mi)\", \"Distance_mi\").withColumnRenamed(\"Temperature(F)\", \"Temperature_F\").withColumnRenamed(\"Wind_Chill(F)\", \"Wind_Chill_F\").withColumnRenamed(\"Humidity(%)\", \"Humidity\").withColumnRenamed(\"Pressure(in)\", \"Pressure_in\").withColumnRenamed(\"Visibility(mi)\", \"Visibility_mi\").withColumnRenamed(\"VWind_Speed(mph)\", \"Wind_Speed_mph\").withColumnRenamed(\"Precipitation(in)\", \"Precipitation_in\").withColumnRenamed(\"Wind_Speed(mph)\", \"Wind_Speed_mph\")\n",
    "\n",
    "# Save the cleaned DataFrame to a Delta table\n",
    "cleaned_df.write.format(\"delta\").mode(\"overwrite\").save(\"/mnt/delta/US_Accidents\")"
   ]
  },
  {
   "cell_type": "code",
   "execution_count": 0,
   "metadata": {
    "application/vnd.databricks.v1+cell": {
     "cellMetadata": {
      "byteLimit": 2048000,
      "rowLimit": 10000
     },
     "inputWidgets": {},
     "nuid": "27527343-7a7b-4d2a-90c3-b8215e5f5fa0",
     "showTitle": false,
     "tableResultSettingsMap": {},
     "title": ""
    }
   },
   "outputs": [],
   "source": [
    "silver_df=cleaned_df.write.format(\"delta\").mode(\"overwrite\").save(\"/FileStore/tables/silver/us_accidents\")"
   ]
  },
  {
   "cell_type": "code",
   "execution_count": 0,
   "metadata": {
    "application/vnd.databricks.v1+cell": {
     "cellMetadata": {
      "byteLimit": 2048000,
      "rowLimit": 10000
     },
     "inputWidgets": {},
     "nuid": "5cf03410-51db-4680-9439-fcd4076b16df",
     "showTitle": false,
     "tableResultSettingsMap": {},
     "title": ""
    }
   },
   "outputs": [
    {
     "output_type": "display_data",
     "data": {
      "text/html": [
       "<style scoped>\n",
       "  .table-result-container {\n",
       "    max-height: 300px;\n",
       "    overflow: auto;\n",
       "  }\n",
       "  table, th, td {\n",
       "    border: 1px solid black;\n",
       "    border-collapse: collapse;\n",
       "  }\n",
       "  th, td {\n",
       "    padding: 5px;\n",
       "  }\n",
       "  th {\n",
       "    text-align: left;\n",
       "  }\n",
       "</style><div class='table-result-container'><table class='table-result'><thead style='background-color: white'><tr><th>ID</th><th>Severity</th><th>Start_Time</th><th>End_Time</th><th>Start_Lat</th><th>Start_Lng</th><th>Distance_mi</th><th>Description</th><th>Street</th><th>City</th><th>County</th><th>State</th><th>Country</th><th>Timezone</th><th>Airport_Code</th><th>Weather_Timestamp</th><th>Temperature_F</th><th>Wind_Chill_F</th><th>Humidity</th><th>Pressure_in</th><th>Visibility_mi</th><th>Wind_Direction</th><th>Wind_Speed_mph</th><th>Precipitation_in</th><th>Weather_Condition</th><th>Amenity</th><th>Bump</th><th>Crossing</th><th>Give_Way</th><th>Junction</th><th>No_Exit</th><th>Railway</th><th>Roundabout</th><th>Station</th><th>Stop</th><th>Traffic_Calming</th><th>Traffic_Signal</th><th>Turning_Loop</th><th>Sunrise_Sunset</th></tr></thead><tbody><tr><td>A-1009766</td><td>3</td><td>2021-06-10T06:29:27Z</td><td>2021-06-10T07:29:20Z</td><td>27.711987</td><td>-82.385284</td><td>2.5299999713897705</td><td>Queueing traffic and right lane blocked due to accident on I-75 Southbound between 19th Ave and FL-674.</td><td>I-75 S</td><td>Ruskin</td><td>Hillsborough</td><td>FL</td><td>US</td><td>US/Eastern</td><td>KMCF</td><td>2021-06-10T06:56:00Z</td><td>75.0</td><td>75.0</td><td>88.0</td><td>30.04</td><td>10.0</td><td>ESE</td><td>6.0</td><td>0.0</td><td>Fair</td><td>false</td><td>false</td><td>false</td><td>false</td><td>false</td><td>false</td><td>false</td><td>false</td><td>false</td><td>false</td><td>false</td><td>false</td><td>false</td><td>Night</td></tr><tr><td>A-1009767</td><td>2</td><td>2021-06-10T06:42:37Z</td><td>2021-06-10T09:10:52Z</td><td>27.878794</td><td>-82.659882</td><td>0.0</td><td>Accident on I-275 Northbound at CR-296.</td><td>Roosevelt Blvd N</td><td>Saint Petersburg</td><td>Pinellas</td><td>FL</td><td>US</td><td>US/Eastern</td><td>KPIE</td><td>2021-06-10T06:53:00Z</td><td>77.0</td><td>77.0</td><td>88.0</td><td>30.05</td><td>10.0</td><td>SE</td><td>8.0</td><td>0.0</td><td>Fair</td><td>false</td><td>false</td><td>false</td><td>false</td><td>false</td><td>false</td><td>false</td><td>false</td><td>false</td><td>false</td><td>false</td><td>false</td><td>false</td><td>Day</td></tr><tr><td>A-1009768</td><td>2</td><td>2021-06-10T06:46:34Z</td><td>2021-06-10T08:37:22Z</td><td>27.85145</td><td>-82.346352</td><td>0.0</td><td>Accident on I-75 Northbound at Gibsonton Dr.</td><td>I-75 N</td><td>Gibsonton</td><td>Hillsborough</td><td>FL</td><td>US</td><td>US/Eastern</td><td>KTPF</td><td>2021-06-10T06:55:00Z</td><td>75.0</td><td>75.0</td><td>89.0</td><td>30.06</td><td>10.0</td><td>CALM</td><td>0.0</td><td>0.0</td><td>Fair</td><td>false</td><td>false</td><td>false</td><td>false</td><td>false</td><td>false</td><td>false</td><td>false</td><td>false</td><td>false</td><td>false</td><td>false</td><td>false</td><td>Day</td></tr><tr><td>A-1009769</td><td>3</td><td>2021-06-10T06:55:39Z</td><td>2021-06-10T07:40:31Z</td><td>27.96545</td><td>-82.439545</td><td>0.0</td><td>Queueing traffic and left hand shoulder blocked due to accident on I-4 Westbound at 14th Ave.</td><td>I-4 W</td><td>Tampa</td><td>Hillsborough</td><td>FL</td><td>US</td><td>US/Eastern</td><td>KTPF</td><td>2021-06-10T06:55:00Z</td><td>75.0</td><td>75.0</td><td>89.0</td><td>30.06</td><td>10.0</td><td>CALM</td><td>0.0</td><td>0.0</td><td>Fair</td><td>false</td><td>false</td><td>false</td><td>false</td><td>false</td><td>false</td><td>false</td><td>false</td><td>false</td><td>false</td><td>false</td><td>false</td><td>false</td><td>Day</td></tr><tr><td>A-1009770</td><td>2</td><td>2021-06-10T07:01:19Z</td><td>2021-06-10T07:30:10Z</td><td>27.95682</td><td>-82.45970200000002</td><td>0.5899999737739563</td><td>Accident on exit ramp from I-275 Southbound to I-4 Westbound.</td><td>N Florida Ave</td><td>Tampa</td><td>Hillsborough</td><td>FL</td><td>US</td><td>US/Eastern</td><td>KTPF</td><td>2021-06-10T06:55:00Z</td><td>75.0</td><td>75.0</td><td>89.0</td><td>30.06</td><td>10.0</td><td>CALM</td><td>0.0</td><td>0.0</td><td>Fair</td><td>false</td><td>false</td><td>true</td><td>false</td><td>false</td><td>false</td><td>false</td><td>false</td><td>false</td><td>false</td><td>false</td><td>false</td><td>false</td><td>Day</td></tr></tbody></table></div>"
      ]
     },
     "metadata": {
      "application/vnd.databricks.v1+output": {
       "addedWidgets": {},
       "aggData": [],
       "aggError": "",
       "aggOverflow": false,
       "aggSchema": [],
       "aggSeriesLimitReached": false,
       "aggType": "",
       "arguments": {},
       "columnCustomDisplayInfos": {},
       "data": [
        [
         "A-1009766",
         3,
         "2021-06-10T06:29:27Z",
         "2021-06-10T07:29:20Z",
         27.711987,
         -82.385284,
         2.5299999713897705,
         "Queueing traffic and right lane blocked due to accident on I-75 Southbound between 19th Ave and FL-674.",
         "I-75 S",
         "Ruskin",
         "Hillsborough",
         "FL",
         "US",
         "US/Eastern",
         "KMCF",
         "2021-06-10T06:56:00Z",
         75.0,
         75.0,
         88.0,
         30.04,
         10.0,
         "ESE",
         6.0,
         0.0,
         "Fair",
         false,
         false,
         false,
         false,
         false,
         false,
         false,
         false,
         false,
         false,
         false,
         false,
         false,
         "Night"
        ],
        [
         "A-1009767",
         2,
         "2021-06-10T06:42:37Z",
         "2021-06-10T09:10:52Z",
         27.878794,
         -82.659882,
         0.0,
         "Accident on I-275 Northbound at CR-296.",
         "Roosevelt Blvd N",
         "Saint Petersburg",
         "Pinellas",
         "FL",
         "US",
         "US/Eastern",
         "KPIE",
         "2021-06-10T06:53:00Z",
         77.0,
         77.0,
         88.0,
         30.05,
         10.0,
         "SE",
         8.0,
         0.0,
         "Fair",
         false,
         false,
         false,
         false,
         false,
         false,
         false,
         false,
         false,
         false,
         false,
         false,
         false,
         "Day"
        ],
        [
         "A-1009768",
         2,
         "2021-06-10T06:46:34Z",
         "2021-06-10T08:37:22Z",
         27.85145,
         -82.346352,
         0.0,
         "Accident on I-75 Northbound at Gibsonton Dr.",
         "I-75 N",
         "Gibsonton",
         "Hillsborough",
         "FL",
         "US",
         "US/Eastern",
         "KTPF",
         "2021-06-10T06:55:00Z",
         75.0,
         75.0,
         89.0,
         30.06,
         10.0,
         "CALM",
         0.0,
         0.0,
         "Fair",
         false,
         false,
         false,
         false,
         false,
         false,
         false,
         false,
         false,
         false,
         false,
         false,
         false,
         "Day"
        ],
        [
         "A-1009769",
         3,
         "2021-06-10T06:55:39Z",
         "2021-06-10T07:40:31Z",
         27.96545,
         -82.439545,
         0.0,
         "Queueing traffic and left hand shoulder blocked due to accident on I-4 Westbound at 14th Ave.",
         "I-4 W",
         "Tampa",
         "Hillsborough",
         "FL",
         "US",
         "US/Eastern",
         "KTPF",
         "2021-06-10T06:55:00Z",
         75.0,
         75.0,
         89.0,
         30.06,
         10.0,
         "CALM",
         0.0,
         0.0,
         "Fair",
         false,
         false,
         false,
         false,
         false,
         false,
         false,
         false,
         false,
         false,
         false,
         false,
         false,
         "Day"
        ],
        [
         "A-1009770",
         2,
         "2021-06-10T07:01:19Z",
         "2021-06-10T07:30:10Z",
         27.95682,
         -82.45970200000002,
         0.5899999737739563,
         "Accident on exit ramp from I-275 Southbound to I-4 Westbound.",
         "N Florida Ave",
         "Tampa",
         "Hillsborough",
         "FL",
         "US",
         "US/Eastern",
         "KTPF",
         "2021-06-10T06:55:00Z",
         75.0,
         75.0,
         89.0,
         30.06,
         10.0,
         "CALM",
         0.0,
         0.0,
         "Fair",
         false,
         false,
         true,
         false,
         false,
         false,
         false,
         false,
         false,
         false,
         false,
         false,
         false,
         "Day"
        ]
       ],
       "datasetInfos": [],
       "dbfsResultPath": null,
       "isJsonSchema": true,
       "metadata": {},
       "overflow": false,
       "plotOptions": {
        "customPlotOptions": {},
        "displayType": "table",
        "pivotAggregation": null,
        "pivotColumns": null,
        "xColumns": null,
        "yColumns": null
       },
       "removedWidgets": [],
       "schema": [
        {
         "metadata": "{}",
         "name": "ID",
         "type": "\"string\""
        },
        {
         "metadata": "{}",
         "name": "Severity",
         "type": "\"integer\""
        },
        {
         "metadata": "{}",
         "name": "Start_Time",
         "type": "\"timestamp\""
        },
        {
         "metadata": "{}",
         "name": "End_Time",
         "type": "\"timestamp\""
        },
        {
         "metadata": "{}",
         "name": "Start_Lat",
         "type": "\"double\""
        },
        {
         "metadata": "{}",
         "name": "Start_Lng",
         "type": "\"double\""
        },
        {
         "metadata": "{}",
         "name": "Distance_mi",
         "type": "\"double\""
        },
        {
         "metadata": "{}",
         "name": "Description",
         "type": "\"string\""
        },
        {
         "metadata": "{}",
         "name": "Street",
         "type": "\"string\""
        },
        {
         "metadata": "{}",
         "name": "City",
         "type": "\"string\""
        },
        {
         "metadata": "{}",
         "name": "County",
         "type": "\"string\""
        },
        {
         "metadata": "{}",
         "name": "State",
         "type": "\"string\""
        },
        {
         "metadata": "{}",
         "name": "Country",
         "type": "\"string\""
        },
        {
         "metadata": "{}",
         "name": "Timezone",
         "type": "\"string\""
        },
        {
         "metadata": "{}",
         "name": "Airport_Code",
         "type": "\"string\""
        },
        {
         "metadata": "{}",
         "name": "Weather_Timestamp",
         "type": "\"timestamp\""
        },
        {
         "metadata": "{}",
         "name": "Temperature_F",
         "type": "\"double\""
        },
        {
         "metadata": "{}",
         "name": "Wind_Chill_F",
         "type": "\"double\""
        },
        {
         "metadata": "{}",
         "name": "Humidity",
         "type": "\"double\""
        },
        {
         "metadata": "{}",
         "name": "Pressure_in",
         "type": "\"double\""
        },
        {
         "metadata": "{}",
         "name": "Visibility_mi",
         "type": "\"double\""
        },
        {
         "metadata": "{}",
         "name": "Wind_Direction",
         "type": "\"string\""
        },
        {
         "metadata": "{}",
         "name": "Wind_Speed_mph",
         "type": "\"double\""
        },
        {
         "metadata": "{}",
         "name": "Precipitation_in",
         "type": "\"double\""
        },
        {
         "metadata": "{}",
         "name": "Weather_Condition",
         "type": "\"string\""
        },
        {
         "metadata": "{}",
         "name": "Amenity",
         "type": "\"boolean\""
        },
        {
         "metadata": "{}",
         "name": "Bump",
         "type": "\"boolean\""
        },
        {
         "metadata": "{}",
         "name": "Crossing",
         "type": "\"boolean\""
        },
        {
         "metadata": "{}",
         "name": "Give_Way",
         "type": "\"boolean\""
        },
        {
         "metadata": "{}",
         "name": "Junction",
         "type": "\"boolean\""
        },
        {
         "metadata": "{}",
         "name": "No_Exit",
         "type": "\"boolean\""
        },
        {
         "metadata": "{}",
         "name": "Railway",
         "type": "\"boolean\""
        },
        {
         "metadata": "{}",
         "name": "Roundabout",
         "type": "\"boolean\""
        },
        {
         "metadata": "{}",
         "name": "Station",
         "type": "\"boolean\""
        },
        {
         "metadata": "{}",
         "name": "Stop",
         "type": "\"boolean\""
        },
        {
         "metadata": "{}",
         "name": "Traffic_Calming",
         "type": "\"boolean\""
        },
        {
         "metadata": "{}",
         "name": "Traffic_Signal",
         "type": "\"boolean\""
        },
        {
         "metadata": "{}",
         "name": "Turning_Loop",
         "type": "\"boolean\""
        },
        {
         "metadata": "{}",
         "name": "Sunrise_Sunset",
         "type": "\"string\""
        }
       ],
       "type": "table"
      }
     },
     "output_type": "display_data"
    },
    {
     "output_type": "stream",
     "name": "stdout",
     "output_type": "stream",
     "text": [
      "Total Silver rows: 5728394\n"
     ]
    }
   ],
   "source": [
    "silver_check = spark.read.format(\"delta\").load(\"/FileStore/tables/silver/us_accidents\")\n",
    "display(silver_check.limit(5))\n",
    "print(f\"Total Silver rows: {silver_check.count()}\")"
   ]
  },
  {
   "cell_type": "code",
   "execution_count": 0,
   "metadata": {
    "application/vnd.databricks.v1+cell": {
     "cellMetadata": {
      "byteLimit": 2048000,
      "implicitDf": true,
      "rowLimit": 10000
     },
     "inputWidgets": {},
     "nuid": "cf3a8f8e-65cb-4172-97e4-2b3964bc4a83",
     "showTitle": false,
     "tableResultSettingsMap": {},
     "title": ""
    }
   },
   "outputs": [],
   "source": [
    "%sql\n",
    "CREATE TABLE IF NOT EXISTS silver_us_accidents\n",
    "USING DELTA\n",
    "LOCATION '/FileStore/tables/silver/us_accidents'"
   ]
  },
  {
   "cell_type": "markdown",
   "metadata": {
    "application/vnd.databricks.v1+cell": {
     "cellMetadata": {
      "byteLimit": 2048000,
      "rowLimit": 10000
     },
     "inputWidgets": {},
     "nuid": "cfa2a7c5-fdf5-4ee3-9c9a-d31c41a75ceb",
     "showTitle": false,
     "tableResultSettingsMap": {},
     "title": ""
    }
   },
   "source": [
    "## Gold Layer – Aggregated Insights\n",
    "\n",
    "### Objective:\n",
    "Generate business-ready tables for analytics and dashboards.\n"
   ]
  },
  {
   "cell_type": "code",
   "execution_count": 0,
   "metadata": {
    "application/vnd.databricks.v1+cell": {
     "cellMetadata": {
      "byteLimit": 2048000,
      "rowLimit": 10000
     },
     "inputWidgets": {},
     "nuid": "b4f6465a-203c-4377-ae36-94f33e072fa0",
     "showTitle": false,
     "tableResultSettingsMap": {},
     "title": ""
    }
   },
   "outputs": [
    {
     "output_type": "display_data",
     "data": {
      "text/html": [
       "<style scoped>\n",
       "  .table-result-container {\n",
       "    max-height: 300px;\n",
       "    overflow: auto;\n",
       "  }\n",
       "  table, th, td {\n",
       "    border: 1px solid black;\n",
       "    border-collapse: collapse;\n",
       "  }\n",
       "  th, td {\n",
       "    padding: 5px;\n",
       "  }\n",
       "  th {\n",
       "    text-align: left;\n",
       "  }\n",
       "</style><div class='table-result-container'><table class='table-result'><thead style='background-color: white'><tr><th>ID</th><th>Severity</th><th>Start_Time</th><th>End_Time</th><th>Start_Lat</th><th>Start_Lng</th><th>Distance_mi</th><th>Description</th><th>Street</th><th>City</th><th>County</th><th>State</th><th>Country</th><th>Timezone</th><th>Airport_Code</th><th>Weather_Timestamp</th><th>Temperature_F</th><th>Wind_Chill_F</th><th>Humidity</th><th>Pressure_in</th><th>Visibility_mi</th><th>Wind_Direction</th><th>Wind_Speed_mph</th><th>Precipitation_in</th><th>Weather_Condition</th><th>Amenity</th><th>Bump</th><th>Crossing</th><th>Give_Way</th><th>Junction</th><th>No_Exit</th><th>Railway</th><th>Roundabout</th><th>Station</th><th>Stop</th><th>Traffic_Calming</th><th>Traffic_Signal</th><th>Turning_Loop</th><th>Sunrise_Sunset</th></tr></thead><tbody><tr><td>A-1009766</td><td>3</td><td>2021-06-10T06:29:27Z</td><td>2021-06-10T07:29:20Z</td><td>27.711987</td><td>-82.385284</td><td>2.5299999713897705</td><td>Queueing traffic and right lane blocked due to accident on I-75 Southbound between 19th Ave and FL-674.</td><td>I-75 S</td><td>Ruskin</td><td>Hillsborough</td><td>FL</td><td>US</td><td>US/Eastern</td><td>KMCF</td><td>2021-06-10T06:56:00Z</td><td>75.0</td><td>75.0</td><td>88.0</td><td>30.04</td><td>10.0</td><td>ESE</td><td>6.0</td><td>0.0</td><td>Fair</td><td>false</td><td>false</td><td>false</td><td>false</td><td>false</td><td>false</td><td>false</td><td>false</td><td>false</td><td>false</td><td>false</td><td>false</td><td>false</td><td>Night</td></tr><tr><td>A-1009767</td><td>2</td><td>2021-06-10T06:42:37Z</td><td>2021-06-10T09:10:52Z</td><td>27.878794</td><td>-82.659882</td><td>0.0</td><td>Accident on I-275 Northbound at CR-296.</td><td>Roosevelt Blvd N</td><td>Saint Petersburg</td><td>Pinellas</td><td>FL</td><td>US</td><td>US/Eastern</td><td>KPIE</td><td>2021-06-10T06:53:00Z</td><td>77.0</td><td>77.0</td><td>88.0</td><td>30.05</td><td>10.0</td><td>SE</td><td>8.0</td><td>0.0</td><td>Fair</td><td>false</td><td>false</td><td>false</td><td>false</td><td>false</td><td>false</td><td>false</td><td>false</td><td>false</td><td>false</td><td>false</td><td>false</td><td>false</td><td>Day</td></tr><tr><td>A-1009768</td><td>2</td><td>2021-06-10T06:46:34Z</td><td>2021-06-10T08:37:22Z</td><td>27.85145</td><td>-82.346352</td><td>0.0</td><td>Accident on I-75 Northbound at Gibsonton Dr.</td><td>I-75 N</td><td>Gibsonton</td><td>Hillsborough</td><td>FL</td><td>US</td><td>US/Eastern</td><td>KTPF</td><td>2021-06-10T06:55:00Z</td><td>75.0</td><td>75.0</td><td>89.0</td><td>30.06</td><td>10.0</td><td>CALM</td><td>0.0</td><td>0.0</td><td>Fair</td><td>false</td><td>false</td><td>false</td><td>false</td><td>false</td><td>false</td><td>false</td><td>false</td><td>false</td><td>false</td><td>false</td><td>false</td><td>false</td><td>Day</td></tr><tr><td>A-1009769</td><td>3</td><td>2021-06-10T06:55:39Z</td><td>2021-06-10T07:40:31Z</td><td>27.96545</td><td>-82.439545</td><td>0.0</td><td>Queueing traffic and left hand shoulder blocked due to accident on I-4 Westbound at 14th Ave.</td><td>I-4 W</td><td>Tampa</td><td>Hillsborough</td><td>FL</td><td>US</td><td>US/Eastern</td><td>KTPF</td><td>2021-06-10T06:55:00Z</td><td>75.0</td><td>75.0</td><td>89.0</td><td>30.06</td><td>10.0</td><td>CALM</td><td>0.0</td><td>0.0</td><td>Fair</td><td>false</td><td>false</td><td>false</td><td>false</td><td>false</td><td>false</td><td>false</td><td>false</td><td>false</td><td>false</td><td>false</td><td>false</td><td>false</td><td>Day</td></tr><tr><td>A-1009770</td><td>2</td><td>2021-06-10T07:01:19Z</td><td>2021-06-10T07:30:10Z</td><td>27.95682</td><td>-82.45970200000002</td><td>0.5899999737739563</td><td>Accident on exit ramp from I-275 Southbound to I-4 Westbound.</td><td>N Florida Ave</td><td>Tampa</td><td>Hillsborough</td><td>FL</td><td>US</td><td>US/Eastern</td><td>KTPF</td><td>2021-06-10T06:55:00Z</td><td>75.0</td><td>75.0</td><td>89.0</td><td>30.06</td><td>10.0</td><td>CALM</td><td>0.0</td><td>0.0</td><td>Fair</td><td>false</td><td>false</td><td>true</td><td>false</td><td>false</td><td>false</td><td>false</td><td>false</td><td>false</td><td>false</td><td>false</td><td>false</td><td>false</td><td>Day</td></tr></tbody></table></div>"
      ]
     },
     "metadata": {
      "application/vnd.databricks.v1+output": {
       "addedWidgets": {},
       "aggData": [],
       "aggError": "",
       "aggOverflow": false,
       "aggSchema": [],
       "aggSeriesLimitReached": false,
       "aggType": "",
       "arguments": {},
       "columnCustomDisplayInfos": {},
       "data": [
        [
         "A-1009766",
         3,
         "2021-06-10T06:29:27Z",
         "2021-06-10T07:29:20Z",
         27.711987,
         -82.385284,
         2.5299999713897705,
         "Queueing traffic and right lane blocked due to accident on I-75 Southbound between 19th Ave and FL-674.",
         "I-75 S",
         "Ruskin",
         "Hillsborough",
         "FL",
         "US",
         "US/Eastern",
         "KMCF",
         "2021-06-10T06:56:00Z",
         75.0,
         75.0,
         88.0,
         30.04,
         10.0,
         "ESE",
         6.0,
         0.0,
         "Fair",
         false,
         false,
         false,
         false,
         false,
         false,
         false,
         false,
         false,
         false,
         false,
         false,
         false,
         "Night"
        ],
        [
         "A-1009767",
         2,
         "2021-06-10T06:42:37Z",
         "2021-06-10T09:10:52Z",
         27.878794,
         -82.659882,
         0.0,
         "Accident on I-275 Northbound at CR-296.",
         "Roosevelt Blvd N",
         "Saint Petersburg",
         "Pinellas",
         "FL",
         "US",
         "US/Eastern",
         "KPIE",
         "2021-06-10T06:53:00Z",
         77.0,
         77.0,
         88.0,
         30.05,
         10.0,
         "SE",
         8.0,
         0.0,
         "Fair",
         false,
         false,
         false,
         false,
         false,
         false,
         false,
         false,
         false,
         false,
         false,
         false,
         false,
         "Day"
        ],
        [
         "A-1009768",
         2,
         "2021-06-10T06:46:34Z",
         "2021-06-10T08:37:22Z",
         27.85145,
         -82.346352,
         0.0,
         "Accident on I-75 Northbound at Gibsonton Dr.",
         "I-75 N",
         "Gibsonton",
         "Hillsborough",
         "FL",
         "US",
         "US/Eastern",
         "KTPF",
         "2021-06-10T06:55:00Z",
         75.0,
         75.0,
         89.0,
         30.06,
         10.0,
         "CALM",
         0.0,
         0.0,
         "Fair",
         false,
         false,
         false,
         false,
         false,
         false,
         false,
         false,
         false,
         false,
         false,
         false,
         false,
         "Day"
        ],
        [
         "A-1009769",
         3,
         "2021-06-10T06:55:39Z",
         "2021-06-10T07:40:31Z",
         27.96545,
         -82.439545,
         0.0,
         "Queueing traffic and left hand shoulder blocked due to accident on I-4 Westbound at 14th Ave.",
         "I-4 W",
         "Tampa",
         "Hillsborough",
         "FL",
         "US",
         "US/Eastern",
         "KTPF",
         "2021-06-10T06:55:00Z",
         75.0,
         75.0,
         89.0,
         30.06,
         10.0,
         "CALM",
         0.0,
         0.0,
         "Fair",
         false,
         false,
         false,
         false,
         false,
         false,
         false,
         false,
         false,
         false,
         false,
         false,
         false,
         "Day"
        ],
        [
         "A-1009770",
         2,
         "2021-06-10T07:01:19Z",
         "2021-06-10T07:30:10Z",
         27.95682,
         -82.45970200000002,
         0.5899999737739563,
         "Accident on exit ramp from I-275 Southbound to I-4 Westbound.",
         "N Florida Ave",
         "Tampa",
         "Hillsborough",
         "FL",
         "US",
         "US/Eastern",
         "KTPF",
         "2021-06-10T06:55:00Z",
         75.0,
         75.0,
         89.0,
         30.06,
         10.0,
         "CALM",
         0.0,
         0.0,
         "Fair",
         false,
         false,
         true,
         false,
         false,
         false,
         false,
         false,
         false,
         false,
         false,
         false,
         false,
         "Day"
        ]
       ],
       "datasetInfos": [],
       "dbfsResultPath": null,
       "isJsonSchema": true,
       "metadata": {},
       "overflow": false,
       "plotOptions": {
        "customPlotOptions": {},
        "displayType": "table",
        "pivotAggregation": null,
        "pivotColumns": null,
        "xColumns": null,
        "yColumns": null
       },
       "removedWidgets": [],
       "schema": [
        {
         "metadata": "{}",
         "name": "ID",
         "type": "\"string\""
        },
        {
         "metadata": "{}",
         "name": "Severity",
         "type": "\"integer\""
        },
        {
         "metadata": "{}",
         "name": "Start_Time",
         "type": "\"timestamp\""
        },
        {
         "metadata": "{}",
         "name": "End_Time",
         "type": "\"timestamp\""
        },
        {
         "metadata": "{}",
         "name": "Start_Lat",
         "type": "\"double\""
        },
        {
         "metadata": "{}",
         "name": "Start_Lng",
         "type": "\"double\""
        },
        {
         "metadata": "{}",
         "name": "Distance_mi",
         "type": "\"double\""
        },
        {
         "metadata": "{}",
         "name": "Description",
         "type": "\"string\""
        },
        {
         "metadata": "{}",
         "name": "Street",
         "type": "\"string\""
        },
        {
         "metadata": "{}",
         "name": "City",
         "type": "\"string\""
        },
        {
         "metadata": "{}",
         "name": "County",
         "type": "\"string\""
        },
        {
         "metadata": "{}",
         "name": "State",
         "type": "\"string\""
        },
        {
         "metadata": "{}",
         "name": "Country",
         "type": "\"string\""
        },
        {
         "metadata": "{}",
         "name": "Timezone",
         "type": "\"string\""
        },
        {
         "metadata": "{}",
         "name": "Airport_Code",
         "type": "\"string\""
        },
        {
         "metadata": "{}",
         "name": "Weather_Timestamp",
         "type": "\"timestamp\""
        },
        {
         "metadata": "{}",
         "name": "Temperature_F",
         "type": "\"double\""
        },
        {
         "metadata": "{}",
         "name": "Wind_Chill_F",
         "type": "\"double\""
        },
        {
         "metadata": "{}",
         "name": "Humidity",
         "type": "\"double\""
        },
        {
         "metadata": "{}",
         "name": "Pressure_in",
         "type": "\"double\""
        },
        {
         "metadata": "{}",
         "name": "Visibility_mi",
         "type": "\"double\""
        },
        {
         "metadata": "{}",
         "name": "Wind_Direction",
         "type": "\"string\""
        },
        {
         "metadata": "{}",
         "name": "Wind_Speed_mph",
         "type": "\"double\""
        },
        {
         "metadata": "{}",
         "name": "Precipitation_in",
         "type": "\"double\""
        },
        {
         "metadata": "{}",
         "name": "Weather_Condition",
         "type": "\"string\""
        },
        {
         "metadata": "{}",
         "name": "Amenity",
         "type": "\"boolean\""
        },
        {
         "metadata": "{}",
         "name": "Bump",
         "type": "\"boolean\""
        },
        {
         "metadata": "{}",
         "name": "Crossing",
         "type": "\"boolean\""
        },
        {
         "metadata": "{}",
         "name": "Give_Way",
         "type": "\"boolean\""
        },
        {
         "metadata": "{}",
         "name": "Junction",
         "type": "\"boolean\""
        },
        {
         "metadata": "{}",
         "name": "No_Exit",
         "type": "\"boolean\""
        },
        {
         "metadata": "{}",
         "name": "Railway",
         "type": "\"boolean\""
        },
        {
         "metadata": "{}",
         "name": "Roundabout",
         "type": "\"boolean\""
        },
        {
         "metadata": "{}",
         "name": "Station",
         "type": "\"boolean\""
        },
        {
         "metadata": "{}",
         "name": "Stop",
         "type": "\"boolean\""
        },
        {
         "metadata": "{}",
         "name": "Traffic_Calming",
         "type": "\"boolean\""
        },
        {
         "metadata": "{}",
         "name": "Traffic_Signal",
         "type": "\"boolean\""
        },
        {
         "metadata": "{}",
         "name": "Turning_Loop",
         "type": "\"boolean\""
        },
        {
         "metadata": "{}",
         "name": "Sunrise_Sunset",
         "type": "\"string\""
        }
       ],
       "type": "table"
      }
     },
     "output_type": "display_data"
    }
   ],
   "source": [
    "from pyspark.sql.functions import col, count, avg, hour\n",
    "#Load the silver layer which is the cleaned layer\n",
    "silver_df = spark.read.format('delta').load('FileStore/tables/silver/us_accidents')\n",
    "display(silver_df.limit(5))"
   ]
  },
  {
   "cell_type": "code",
   "execution_count": 0,
   "metadata": {
    "application/vnd.databricks.v1+cell": {
     "cellMetadata": {
      "byteLimit": 2048000,
      "rowLimit": 10000
     },
     "inputWidgets": {},
     "nuid": "aa59ff17-c012-446e-a280-4074df3f5193",
     "showTitle": false,
     "tableResultSettingsMap": {},
     "title": ""
    }
   },
   "outputs": [
    {
     "output_type": "stream",
     "name": "stdout",
     "output_type": "stream",
     "text": [
      "+-----+---------------+\n|State|total_accidents|\n+-----+---------------+\n|   CA|        1348225|\n|   FL|         657915|\n|   TX|         433062|\n|   SC|         264481|\n|   NY|         245876|\n|   NC|         230607|\n|   PA|         222503|\n|   VA|         213662|\n|   OR|         151406|\n|   MN|         141167|\n+-----+---------------+\nonly showing top 10 rows\n"
     ]
    }
   ],
   "source": [
    "#Lets do total accidents per state\n",
    "gold_state_accidents = (\n",
    "    silver_df.groupBy('State')\n",
    "    .agg(count('*').alias('total_accidents'))\n",
    "    .orderBy(col('total_accidents').desc())\n",
    ")\n",
    "\n",
    "display(gold_state_accidents.show(10))"
   ]
  },
  {
   "cell_type": "code",
   "execution_count": 0,
   "metadata": {
    "application/vnd.databricks.v1+cell": {
     "cellMetadata": {
      "byteLimit": 2048000,
      "rowLimit": 10000
     },
     "inputWidgets": {},
     "nuid": "0e77861f-762f-4eba-9bf4-22177e0932ab",
     "showTitle": false,
     "tableResultSettingsMap": {},
     "title": ""
    }
   },
   "outputs": [
    {
     "output_type": "display_data",
     "data": {
      "text/html": [
       "<style scoped>\n",
       "  .table-result-container {\n",
       "    max-height: 300px;\n",
       "    overflow: auto;\n",
       "  }\n",
       "  table, th, td {\n",
       "    border: 1px solid black;\n",
       "    border-collapse: collapse;\n",
       "  }\n",
       "  th, td {\n",
       "    padding: 5px;\n",
       "  }\n",
       "  th {\n",
       "    text-align: left;\n",
       "  }\n",
       "</style><div class='table-result-container'><table class='table-result'><thead style='background-color: white'><tr><th>Weather_Condition</th><th>avg_severity</th></tr></thead><tbody><tr><td>Light Blowing Snow</td><td>4.0</td></tr><tr><td>Patches of Fog / Windy</td><td>3.142857142857143</td></tr><tr><td>Light Snow Showers</td><td>3.111111111111111</td></tr><tr><td>Partial Fog / Windy</td><td>3.0</td></tr><tr><td>Heavy Blowing Snow</td><td>3.0</td></tr><tr><td>Snow Showers</td><td>3.0</td></tr><tr><td>Thunder and Hail / Windy</td><td>3.0</td></tr><tr><td>Heavy Freezing Rain / Windy</td><td>3.0</td></tr><tr><td>Light Fog</td><td>3.0</td></tr><tr><td>Heavy Thunderstorms and Snow</td><td>2.8</td></tr></tbody></table></div>"
      ]
     },
     "metadata": {
      "application/vnd.databricks.v1+output": {
       "addedWidgets": {},
       "aggData": [],
       "aggError": "",
       "aggOverflow": false,
       "aggSchema": [],
       "aggSeriesLimitReached": false,
       "aggType": "",
       "arguments": {},
       "columnCustomDisplayInfos": {},
       "data": [
        [
         "Light Blowing Snow",
         4.0
        ],
        [
         "Patches of Fog / Windy",
         3.142857142857143
        ],
        [
         "Light Snow Showers",
         3.111111111111111
        ],
        [
         "Partial Fog / Windy",
         3.0
        ],
        [
         "Heavy Blowing Snow",
         3.0
        ],
        [
         "Snow Showers",
         3.0
        ],
        [
         "Thunder and Hail / Windy",
         3.0
        ],
        [
         "Heavy Freezing Rain / Windy",
         3.0
        ],
        [
         "Light Fog",
         3.0
        ],
        [
         "Heavy Thunderstorms and Snow",
         2.8
        ]
       ],
       "datasetInfos": [],
       "dbfsResultPath": null,
       "isJsonSchema": true,
       "metadata": {},
       "overflow": false,
       "plotOptions": {
        "customPlotOptions": {},
        "displayType": "table",
        "pivotAggregation": null,
        "pivotColumns": null,
        "xColumns": null,
        "yColumns": null
       },
       "removedWidgets": [],
       "schema": [
        {
         "metadata": "{}",
         "name": "Weather_Condition",
         "type": "\"string\""
        },
        {
         "metadata": "{}",
         "name": "avg_severity",
         "type": "\"double\""
        }
       ],
       "type": "table"
      }
     },
     "output_type": "display_data"
    }
   ],
   "source": [
    "#Average Severity by Weather\n",
    "gold_weather_severity = (\n",
    "    silver_df.groupBy('Weather_Condition')\n",
    "    .agg(avg('Severity').alias('avg_severity'))\n",
    "    .orderBy(col('avg_severity').desc())\n",
    ")\n",
    "\n",
    "display(gold_weather_severity.limit(10))"
   ]
  },
  {
   "cell_type": "code",
   "execution_count": 0,
   "metadata": {
    "application/vnd.databricks.v1+cell": {
     "cellMetadata": {
      "byteLimit": 2048000,
      "rowLimit": 10000
     },
     "inputWidgets": {},
     "nuid": "9933c42b-511e-4a41-ad6a-99cb48b59f42",
     "showTitle": false,
     "tableResultSettingsMap": {},
     "title": ""
    }
   },
   "outputs": [
    {
     "output_type": "display_data",
     "data": {
      "text/html": [
       "<style scoped>\n",
       "  .table-result-container {\n",
       "    max-height: 300px;\n",
       "    overflow: auto;\n",
       "  }\n",
       "  table, th, td {\n",
       "    border: 1px solid black;\n",
       "    border-collapse: collapse;\n",
       "  }\n",
       "  th, td {\n",
       "    padding: 5px;\n",
       "  }\n",
       "  th {\n",
       "    text-align: left;\n",
       "  }\n",
       "</style><div class='table-result-container'><table class='table-result'><thead style='background-color: white'><tr><th>ID</th><th>Severity</th><th>Start_Time</th><th>End_Time</th><th>Start_Lat</th><th>Start_Lng</th><th>Distance_mi</th><th>Description</th><th>Street</th><th>City</th><th>County</th><th>State</th><th>Country</th><th>Timezone</th><th>Airport_Code</th><th>Weather_Timestamp</th><th>Temperature_F</th><th>Wind_Chill_F</th><th>Humidity</th><th>Pressure_in</th><th>Visibility_mi</th><th>Wind_Direction</th><th>Wind_Speed_mph</th><th>Precipitation_in</th><th>Weather_Condition</th><th>Amenity</th><th>Bump</th><th>Crossing</th><th>Give_Way</th><th>Junction</th><th>No_Exit</th><th>Railway</th><th>Roundabout</th><th>Station</th><th>Stop</th><th>Traffic_Calming</th><th>Traffic_Signal</th><th>Turning_Loop</th><th>Sunrise_Sunset</th></tr></thead><tbody><tr><td>0</td><td>0</td><td>0</td><td>0</td><td>0</td><td>0</td><td>0</td><td>4</td><td>7296</td><td>204</td><td>0</td><td>0</td><td>0</td><td>5857</td><td>16447</td><td>91066</td><td>124513</td><td>1317299</td><td>132455</td><td>106433</td><td>132857</td><td>133334</td><td>386021</td><td>1455888</td><td>130468</td><td>0</td><td>0</td><td>0</td><td>0</td><td>0</td><td>0</td><td>0</td><td>0</td><td>0</td><td>0</td><td>0</td><td>0</td><td>0</td><td>14763</td></tr></tbody></table></div>"
      ]
     },
     "metadata": {
      "application/vnd.databricks.v1+output": {
       "addedWidgets": {},
       "aggData": [],
       "aggError": "",
       "aggOverflow": false,
       "aggSchema": [],
       "aggSeriesLimitReached": false,
       "aggType": "",
       "arguments": {},
       "columnCustomDisplayInfos": {},
       "data": [
        [
         0,
         0,
         0,
         0,
         0,
         0,
         0,
         4,
         7296,
         204,
         0,
         0,
         0,
         5857,
         16447,
         91066,
         124513,
         1317299,
         132455,
         106433,
         132857,
         133334,
         386021,
         1455888,
         130468,
         0,
         0,
         0,
         0,
         0,
         0,
         0,
         0,
         0,
         0,
         0,
         0,
         0,
         14763
        ]
       ],
       "datasetInfos": [],
       "dbfsResultPath": null,
       "isJsonSchema": true,
       "metadata": {},
       "overflow": false,
       "plotOptions": {
        "customPlotOptions": {},
        "displayType": "table",
        "pivotAggregation": null,
        "pivotColumns": null,
        "xColumns": null,
        "yColumns": null
       },
       "removedWidgets": [],
       "schema": [
        {
         "metadata": "{}",
         "name": "ID",
         "type": "\"long\""
        },
        {
         "metadata": "{}",
         "name": "Severity",
         "type": "\"long\""
        },
        {
         "metadata": "{}",
         "name": "Start_Time",
         "type": "\"long\""
        },
        {
         "metadata": "{}",
         "name": "End_Time",
         "type": "\"long\""
        },
        {
         "metadata": "{}",
         "name": "Start_Lat",
         "type": "\"long\""
        },
        {
         "metadata": "{}",
         "name": "Start_Lng",
         "type": "\"long\""
        },
        {
         "metadata": "{}",
         "name": "Distance_mi",
         "type": "\"long\""
        },
        {
         "metadata": "{}",
         "name": "Description",
         "type": "\"long\""
        },
        {
         "metadata": "{}",
         "name": "Street",
         "type": "\"long\""
        },
        {
         "metadata": "{}",
         "name": "City",
         "type": "\"long\""
        },
        {
         "metadata": "{}",
         "name": "County",
         "type": "\"long\""
        },
        {
         "metadata": "{}",
         "name": "State",
         "type": "\"long\""
        },
        {
         "metadata": "{}",
         "name": "Country",
         "type": "\"long\""
        },
        {
         "metadata": "{}",
         "name": "Timezone",
         "type": "\"long\""
        },
        {
         "metadata": "{}",
         "name": "Airport_Code",
         "type": "\"long\""
        },
        {
         "metadata": "{}",
         "name": "Weather_Timestamp",
         "type": "\"long\""
        },
        {
         "metadata": "{}",
         "name": "Temperature_F",
         "type": "\"long\""
        },
        {
         "metadata": "{}",
         "name": "Wind_Chill_F",
         "type": "\"long\""
        },
        {
         "metadata": "{}",
         "name": "Humidity",
         "type": "\"long\""
        },
        {
         "metadata": "{}",
         "name": "Pressure_in",
         "type": "\"long\""
        },
        {
         "metadata": "{}",
         "name": "Visibility_mi",
         "type": "\"long\""
        },
        {
         "metadata": "{}",
         "name": "Wind_Direction",
         "type": "\"long\""
        },
        {
         "metadata": "{}",
         "name": "Wind_Speed_mph",
         "type": "\"long\""
        },
        {
         "metadata": "{}",
         "name": "Precipitation_in",
         "type": "\"long\""
        },
        {
         "metadata": "{}",
         "name": "Weather_Condition",
         "type": "\"long\""
        },
        {
         "metadata": "{}",
         "name": "Amenity",
         "type": "\"long\""
        },
        {
         "metadata": "{}",
         "name": "Bump",
         "type": "\"long\""
        },
        {
         "metadata": "{}",
         "name": "Crossing",
         "type": "\"long\""
        },
        {
         "metadata": "{}",
         "name": "Give_Way",
         "type": "\"long\""
        },
        {
         "metadata": "{}",
         "name": "Junction",
         "type": "\"long\""
        },
        {
         "metadata": "{}",
         "name": "No_Exit",
         "type": "\"long\""
        },
        {
         "metadata": "{}",
         "name": "Railway",
         "type": "\"long\""
        },
        {
         "metadata": "{}",
         "name": "Roundabout",
         "type": "\"long\""
        },
        {
         "metadata": "{}",
         "name": "Station",
         "type": "\"long\""
        },
        {
         "metadata": "{}",
         "name": "Stop",
         "type": "\"long\""
        },
        {
         "metadata": "{}",
         "name": "Traffic_Calming",
         "type": "\"long\""
        },
        {
         "metadata": "{}",
         "name": "Traffic_Signal",
         "type": "\"long\""
        },
        {
         "metadata": "{}",
         "name": "Turning_Loop",
         "type": "\"long\""
        },
        {
         "metadata": "{}",
         "name": "Sunrise_Sunset",
         "type": "\"long\""
        }
       ],
       "type": "table"
      }
     },
     "output_type": "display_data"
    }
   ],
   "source": [
    "from pyspark.sql import functions as F\n",
    "\n",
    "# Check for null values in each column of the DataFrame\n",
    "null_counts = silver_df.select([\n",
    "    F.count(F.when(F.col(c).isNull(), c)).alias(c) \n",
    "    for c in silver_df.columns\n",
    "])\n",
    "display(null_counts)"
   ]
  },
  {
   "cell_type": "code",
   "execution_count": 0,
   "metadata": {
    "application/vnd.databricks.v1+cell": {
     "cellMetadata": {
      "byteLimit": 2048000,
      "rowLimit": 10000
     },
     "inputWidgets": {},
     "nuid": "b15b4a09-b85f-48c7-a1fb-bcab361ff427",
     "showTitle": false,
     "tableResultSettingsMap": {},
     "title": ""
    }
   },
   "outputs": [
    {
     "output_type": "display_data",
     "data": {
      "text/html": [
       "<style scoped>\n",
       "  .table-result-container {\n",
       "    max-height: 300px;\n",
       "    overflow: auto;\n",
       "  }\n",
       "  table, th, td {\n",
       "    border: 1px solid black;\n",
       "    border-collapse: collapse;\n",
       "  }\n",
       "  th, td {\n",
       "    padding: 5px;\n",
       "  }\n",
       "  th {\n",
       "    text-align: left;\n",
       "  }\n",
       "</style><div class='table-result-container'><table class='table-result'><thead style='background-color: white'><tr><th>Accident_Hour</th><th>total_accidents</th></tr></thead><tbody><tr><td>0</td><td>91671</td></tr><tr><td>1</td><td>80358</td></tr><tr><td>2</td><td>76636</td></tr><tr><td>3</td><td>68699</td></tr><tr><td>4</td><td>125937</td></tr><tr><td>5</td><td>173493</td></tr><tr><td>6</td><td>296969</td></tr><tr><td>7</td><td>418369</td></tr><tr><td>8</td><td>413577</td></tr><tr><td>9</td><td>262156</td></tr><tr><td>10</td><td>247515</td></tr><tr><td>11</td><td>255636</td></tr><tr><td>12</td><td>261074</td></tr><tr><td>13</td><td>292736</td></tr><tr><td>14</td><td>330538</td></tr><tr><td>15</td><td>382575</td></tr><tr><td>16</td><td>425873</td></tr><tr><td>17</td><td>423529</td></tr><tr><td>18</td><td>327573</td></tr><tr><td>19</td><td>226159</td></tr><tr><td>20</td><td>172329</td></tr><tr><td>21</td><td>145407</td></tr><tr><td>22</td><td>128901</td></tr><tr><td>23</td><td>100684</td></tr></tbody></table></div>"
      ]
     },
     "metadata": {
      "application/vnd.databricks.v1+output": {
       "addedWidgets": {},
       "aggData": [],
       "aggError": "",
       "aggOverflow": false,
       "aggSchema": [],
       "aggSeriesLimitReached": false,
       "aggType": "",
       "arguments": {},
       "columnCustomDisplayInfos": {},
       "data": [
        [
         0,
         91671
        ],
        [
         1,
         80358
        ],
        [
         2,
         76636
        ],
        [
         3,
         68699
        ],
        [
         4,
         125937
        ],
        [
         5,
         173493
        ],
        [
         6,
         296969
        ],
        [
         7,
         418369
        ],
        [
         8,
         413577
        ],
        [
         9,
         262156
        ],
        [
         10,
         247515
        ],
        [
         11,
         255636
        ],
        [
         12,
         261074
        ],
        [
         13,
         292736
        ],
        [
         14,
         330538
        ],
        [
         15,
         382575
        ],
        [
         16,
         425873
        ],
        [
         17,
         423529
        ],
        [
         18,
         327573
        ],
        [
         19,
         226159
        ],
        [
         20,
         172329
        ],
        [
         21,
         145407
        ],
        [
         22,
         128901
        ],
        [
         23,
         100684
        ]
       ],
       "datasetInfos": [],
       "dbfsResultPath": null,
       "isJsonSchema": true,
       "metadata": {},
       "overflow": false,
       "plotOptions": {
        "customPlotOptions": {},
        "displayType": "table",
        "pivotAggregation": null,
        "pivotColumns": null,
        "xColumns": null,
        "yColumns": null
       },
       "removedWidgets": [],
       "schema": [
        {
         "metadata": "{}",
         "name": "Accident_Hour",
         "type": "\"integer\""
        },
        {
         "metadata": "{}",
         "name": "total_accidents",
         "type": "\"long\""
        }
       ],
       "type": "table"
      }
     },
     "output_type": "display_data"
    }
   ],
   "source": [
    "#Hourly Accident Trend\n",
    "gold_hourly_trend = (\n",
    "    silver_df.withColumn('Accident_Hour', hour(col('Start_Time')))\n",
    "    .groupBy('Accident_Hour')\n",
    "    .agg(count('*').alias('total_accidents'))\n",
    "    .orderBy('Accident_Hour')\n",
    ")\n",
    "\n",
    "display(gold_hourly_trend)"
   ]
  },
  {
   "cell_type": "code",
   "execution_count": 0,
   "metadata": {
    "application/vnd.databricks.v1+cell": {
     "cellMetadata": {
      "byteLimit": 2048000,
      "rowLimit": 10000
     },
     "inputWidgets": {},
     "nuid": "5e6dbbd5-5715-4121-b2e4-9a83b2659439",
     "showTitle": false,
     "tableResultSettingsMap": {},
     "title": ""
    }
   },
   "outputs": [],
   "source": [
    "\n",
    "#Saving Gold Tables as Delta Tables \n",
    "gold_state_accidents.write.format('delta').mode('overwrite').save(\"/Filestore/tables/gold/gold_state_accidents\")\n",
    "gold_weather_severity.write.format('delta').mode('overwrite').save(\"/Filestore/tables/gold/gold_weather_severity\")\n",
    "gold_hourly_trend.write.format('delta').mode('overwrite').save(\"/Filestore/tables/gold/gold_hourly_trend\")"
   ]
  },
  {
   "cell_type": "code",
   "execution_count": 0,
   "metadata": {
    "application/vnd.databricks.v1+cell": {
     "cellMetadata": {
      "byteLimit": 2048000,
      "rowLimit": 10000
     },
     "inputWidgets": {},
     "nuid": "b6ab2717-b764-49b2-9b0c-a986ad840817",
     "showTitle": false,
     "tableResultSettingsMap": {},
     "title": ""
    }
   },
   "outputs": [],
   "source": []
  }
 ],
 "metadata": {
  "application/vnd.databricks.v1+notebook": {
   "computePreferences": null,
   "dashboards": [],
   "environmentMetadata": {
    "base_environment": "",
    "environment_version": "2"
   },
   "inputWidgetPreferences": null,
   "language": "python",
   "notebookMetadata": {
    "mostRecentlyExecutedCommandWithImplicitDF": {
     "commandId": 8548923632407056,
     "dataframes": [
      "_sqldf"
     ]
    },
    "pythonIndentUnit": 4
   },
   "notebookName": "US Accidents Analysis in Databricks",
   "widgets": {}
  },
  "language_info": {
   "name": "python"
  }
 },
 "nbformat": 4,
 "nbformat_minor": 0
}